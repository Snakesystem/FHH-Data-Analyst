{
 "cells": [
  {
   "cell_type": "code",
   "execution_count": 1,
   "id": "d4f7227e",
   "metadata": {},
   "outputs": [],
   "source": [
    "import pandas as pd"
   ]
  },
  {
   "cell_type": "markdown",
   "id": "8dcb4fc4",
   "metadata": {},
   "source": [
    "## Bussines Understanding\n",
    "\n",
    "Permasalahan dalam ekonomi adalah tidak jauh dari `Inflasi, Deflasi dan Resesi` dimana dari beberapa sumber yang telah kami pelajari bisa di simpulkan adalah kejadian naik turunnya keadaan ekonomi\n",
    "\n",
    "Pada kasus kali ini, data yang di berikan oleh kementrian keuangan pada acara Finance and Healt Hackathon adalah data terkait keuangan perbankan dan kegiatan operasional kesehatan untuk dianalisa agar bisa menyelesaikan masalah yang ada di negara kita yaitu Indonesia Tercinta\n",
    "\n",
    "Dari beberapa dataset yang disediakan, tim kami memilih data keuangan dan perbankan yaitu Data [Distribusi dan LPS](https://drive.google.com/drive/folders/1Tadl9BQJ62R89bbD69Zchf-iziDgbxH3) yang disediakan oleh kementrian keuangan."
   ]
  },
  {
   "cell_type": "code",
   "execution_count": 2,
   "id": "1129bee3",
   "metadata": {},
   "outputs": [],
   "source": [
    "df_dist = pd.read_excel('bank/data/Dataset LPS - Data Distribusi Simpanan.xlsx', sheet_name='Distribusi Simpanan Bank Umum')\n",
    "df_lps = pd.read_excel('bank/data/Dataset LPS - Data Distribusi Simpanan.xlsx', sheet_name='LPS Rate')"
   ]
  },
  {
   "cell_type": "code",
   "execution_count": 3,
   "id": "75df7a4a",
   "metadata": {},
   "outputs": [
    {
     "data": {
      "text/html": [
       "<div>\n",
       "<style scoped>\n",
       "    .dataframe tbody tr th:only-of-type {\n",
       "        vertical-align: middle;\n",
       "    }\n",
       "\n",
       "    .dataframe tbody tr th {\n",
       "        vertical-align: top;\n",
       "    }\n",
       "\n",
       "    .dataframe thead th {\n",
       "        text-align: right;\n",
       "    }\n",
       "</style>\n",
       "<table border=\"1\" class=\"dataframe\">\n",
       "  <thead>\n",
       "    <tr style=\"text-align: right;\">\n",
       "      <th></th>\n",
       "      <th>years</th>\n",
       "      <th>month</th>\n",
       "      <th>Tiering Nominal</th>\n",
       "      <th>Jenis Usaha</th>\n",
       "      <th>Jenis Simpanan</th>\n",
       "      <th>Pemilik Simpanan</th>\n",
       "      <th>KBMI</th>\n",
       "      <th>Currency</th>\n",
       "      <th>Nominal</th>\n",
       "      <th>Rekening</th>\n",
       "    </tr>\n",
       "  </thead>\n",
       "  <tbody>\n",
       "    <tr>\n",
       "      <th>0</th>\n",
       "      <td>2017</td>\n",
       "      <td>1</td>\n",
       "      <td>100 Jt &lt; N &lt;= 200 Jt</td>\n",
       "      <td>Konvensional</td>\n",
       "      <td>Deposit On Call</td>\n",
       "      <td>Simpanan Dari Bank Lain</td>\n",
       "      <td>NaN</td>\n",
       "      <td>IDR</td>\n",
       "      <td>0.0</td>\n",
       "      <td>0.0</td>\n",
       "    </tr>\n",
       "    <tr>\n",
       "      <th>1</th>\n",
       "      <td>2017</td>\n",
       "      <td>1</td>\n",
       "      <td>100 Jt &lt; N &lt;= 200 Jt</td>\n",
       "      <td>Konvensional</td>\n",
       "      <td>Deposit On Call</td>\n",
       "      <td>Simpanan Dari Bank Lain</td>\n",
       "      <td>NaN</td>\n",
       "      <td>USD</td>\n",
       "      <td>0.0</td>\n",
       "      <td>0.0</td>\n",
       "    </tr>\n",
       "    <tr>\n",
       "      <th>2</th>\n",
       "      <td>2017</td>\n",
       "      <td>1</td>\n",
       "      <td>100 Jt &lt; N &lt;= 200 Jt</td>\n",
       "      <td>Konvensional</td>\n",
       "      <td>Deposit On Call</td>\n",
       "      <td>Simpanan Dari Bank Lain</td>\n",
       "      <td>KBMI 1</td>\n",
       "      <td>IDR</td>\n",
       "      <td>0.0</td>\n",
       "      <td>0.0</td>\n",
       "    </tr>\n",
       "    <tr>\n",
       "      <th>3</th>\n",
       "      <td>2017</td>\n",
       "      <td>1</td>\n",
       "      <td>100 Jt &lt; N &lt;= 200 Jt</td>\n",
       "      <td>Konvensional</td>\n",
       "      <td>Deposit On Call</td>\n",
       "      <td>Simpanan Dari Bank Lain</td>\n",
       "      <td>KBMI 1</td>\n",
       "      <td>USD</td>\n",
       "      <td>0.0</td>\n",
       "      <td>0.0</td>\n",
       "    </tr>\n",
       "    <tr>\n",
       "      <th>4</th>\n",
       "      <td>2017</td>\n",
       "      <td>1</td>\n",
       "      <td>100 Jt &lt; N &lt;= 200 Jt</td>\n",
       "      <td>Konvensional</td>\n",
       "      <td>Deposit On Call</td>\n",
       "      <td>Simpanan Dari Bank Lain</td>\n",
       "      <td>KBMI 2</td>\n",
       "      <td>IDR</td>\n",
       "      <td>0.0</td>\n",
       "      <td>0.0</td>\n",
       "    </tr>\n",
       "  </tbody>\n",
       "</table>\n",
       "</div>"
      ],
      "text/plain": [
       "   years  month       Tiering Nominal   Jenis Usaha   Jenis Simpanan  \\\n",
       "0   2017      1  100 Jt < N <= 200 Jt  Konvensional  Deposit On Call   \n",
       "1   2017      1  100 Jt < N <= 200 Jt  Konvensional  Deposit On Call   \n",
       "2   2017      1  100 Jt < N <= 200 Jt  Konvensional  Deposit On Call   \n",
       "3   2017      1  100 Jt < N <= 200 Jt  Konvensional  Deposit On Call   \n",
       "4   2017      1  100 Jt < N <= 200 Jt  Konvensional  Deposit On Call   \n",
       "\n",
       "          Pemilik Simpanan    KBMI Currency  Nominal  Rekening  \n",
       "0  Simpanan Dari Bank Lain     NaN      IDR      0.0       0.0  \n",
       "1  Simpanan Dari Bank Lain     NaN      USD      0.0       0.0  \n",
       "2  Simpanan Dari Bank Lain  KBMI 1      IDR      0.0       0.0  \n",
       "3  Simpanan Dari Bank Lain  KBMI 1      USD      0.0       0.0  \n",
       "4  Simpanan Dari Bank Lain  KBMI 2      IDR      0.0       0.0  "
      ]
     },
     "execution_count": 3,
     "metadata": {},
     "output_type": "execute_result"
    }
   ],
   "source": [
    "df_dist.head()"
   ]
  },
  {
   "cell_type": "code",
   "execution_count": 4,
   "id": "6c0048f9",
   "metadata": {},
   "outputs": [
    {
     "data": {
      "text/html": [
       "<div>\n",
       "<style scoped>\n",
       "    .dataframe tbody tr th:only-of-type {\n",
       "        vertical-align: middle;\n",
       "    }\n",
       "\n",
       "    .dataframe tbody tr th {\n",
       "        vertical-align: top;\n",
       "    }\n",
       "\n",
       "    .dataframe thead th {\n",
       "        text-align: right;\n",
       "    }\n",
       "</style>\n",
       "<table border=\"1\" class=\"dataframe\">\n",
       "  <thead>\n",
       "    <tr style=\"text-align: right;\">\n",
       "      <th></th>\n",
       "      <th>id</th>\n",
       "      <th>start_period</th>\n",
       "      <th>end_period</th>\n",
       "      <th>suku_bunga_bpr</th>\n",
       "      <th>suku_bunga_bankumum_rupiah</th>\n",
       "      <th>suku_bunga_bankumum_valas</th>\n",
       "      <th>end_period2</th>\n",
       "    </tr>\n",
       "  </thead>\n",
       "  <tbody>\n",
       "    <tr>\n",
       "      <th>0</th>\n",
       "      <td>1</td>\n",
       "      <td>2005-09-15</td>\n",
       "      <td>2006-01-14</td>\n",
       "      <td>15.5</td>\n",
       "      <td>10.5</td>\n",
       "      <td>4.25</td>\n",
       "      <td>2005-10-15</td>\n",
       "    </tr>\n",
       "    <tr>\n",
       "      <th>1</th>\n",
       "      <td>2</td>\n",
       "      <td>2005-10-15</td>\n",
       "      <td>2006-01-14</td>\n",
       "      <td>16.5</td>\n",
       "      <td>11.5</td>\n",
       "      <td>4.25</td>\n",
       "      <td>2005-11-15</td>\n",
       "    </tr>\n",
       "    <tr>\n",
       "      <th>2</th>\n",
       "      <td>3</td>\n",
       "      <td>2005-11-15</td>\n",
       "      <td>2006-01-14</td>\n",
       "      <td>18.0</td>\n",
       "      <td>13.0</td>\n",
       "      <td>4.25</td>\n",
       "      <td>2005-12-15</td>\n",
       "    </tr>\n",
       "    <tr>\n",
       "      <th>3</th>\n",
       "      <td>4</td>\n",
       "      <td>2005-12-15</td>\n",
       "      <td>2006-01-14</td>\n",
       "      <td>18.0</td>\n",
       "      <td>13.0</td>\n",
       "      <td>4.25</td>\n",
       "      <td>2006-01-15</td>\n",
       "    </tr>\n",
       "    <tr>\n",
       "      <th>4</th>\n",
       "      <td>5</td>\n",
       "      <td>2006-01-15</td>\n",
       "      <td>2006-05-14</td>\n",
       "      <td>18.0</td>\n",
       "      <td>13.0</td>\n",
       "      <td>4.25</td>\n",
       "      <td>2006-02-15</td>\n",
       "    </tr>\n",
       "  </tbody>\n",
       "</table>\n",
       "</div>"
      ],
      "text/plain": [
       "   id start_period  end_period  suku_bunga_bpr  suku_bunga_bankumum_rupiah  \\\n",
       "0   1   2005-09-15  2006-01-14            15.5                        10.5   \n",
       "1   2   2005-10-15  2006-01-14            16.5                        11.5   \n",
       "2   3   2005-11-15  2006-01-14            18.0                        13.0   \n",
       "3   4   2005-12-15  2006-01-14            18.0                        13.0   \n",
       "4   5   2006-01-15  2006-05-14            18.0                        13.0   \n",
       "\n",
       "   suku_bunga_bankumum_valas end_period2  \n",
       "0                       4.25  2005-10-15  \n",
       "1                       4.25  2005-11-15  \n",
       "2                       4.25  2005-12-15  \n",
       "3                       4.25  2006-01-15  \n",
       "4                       4.25  2006-02-15  "
      ]
     },
     "execution_count": 4,
     "metadata": {},
     "output_type": "execute_result"
    }
   ],
   "source": [
    "df_lps.head()"
   ]
  },
  {
   "cell_type": "code",
   "execution_count": 5,
   "id": "8ca60624",
   "metadata": {},
   "outputs": [
    {
     "name": "stdout",
     "output_type": "stream",
     "text": [
      "<class 'pandas.core.frame.DataFrame'>\n",
      "RangeIndex: 83030 entries, 0 to 83029\n",
      "Data columns (total 10 columns):\n",
      " #   Column            Non-Null Count  Dtype  \n",
      "---  ------            --------------  -----  \n",
      " 0   years             83030 non-null  int64  \n",
      " 1   month             83030 non-null  int64  \n",
      " 2   Tiering Nominal   83030 non-null  object \n",
      " 3   Jenis Usaha       83030 non-null  object \n",
      " 4   Jenis Simpanan    83030 non-null  object \n",
      " 5   Pemilik Simpanan  83030 non-null  object \n",
      " 6   KBMI              82470 non-null  object \n",
      " 7   Currency          83030 non-null  object \n",
      " 8   Nominal           83030 non-null  float64\n",
      " 9   Rekening          83030 non-null  float64\n",
      "dtypes: float64(2), int64(2), object(6)\n",
      "memory usage: 6.3+ MB\n"
     ]
    }
   ],
   "source": [
    "# Info dasar Data Distribusi simpanan\n",
    "df_dist.info()"
   ]
  },
  {
   "cell_type": "code",
   "execution_count": 6,
   "id": "6298f8ec",
   "metadata": {},
   "outputs": [
    {
     "name": "stdout",
     "output_type": "stream",
     "text": [
      "<class 'pandas.core.frame.DataFrame'>\n",
      "RangeIndex: 138 entries, 0 to 137\n",
      "Data columns (total 7 columns):\n",
      " #   Column                      Non-Null Count  Dtype  \n",
      "---  ------                      --------------  -----  \n",
      " 0   id                          138 non-null    int64  \n",
      " 1   start_period                138 non-null    object \n",
      " 2   end_period                  138 non-null    object \n",
      " 3   suku_bunga_bpr              138 non-null    float64\n",
      " 4   suku_bunga_bankumum_rupiah  138 non-null    float64\n",
      " 5   suku_bunga_bankumum_valas   138 non-null    float64\n",
      " 6   end_period2                 138 non-null    object \n",
      "dtypes: float64(3), int64(1), object(3)\n",
      "memory usage: 7.7+ KB\n"
     ]
    }
   ],
   "source": [
    "df_lps.info()"
   ]
  },
  {
   "cell_type": "code",
   "execution_count": 7,
   "id": "b77b484f",
   "metadata": {},
   "outputs": [
    {
     "data": {
      "text/plain": [
       "years                 0\n",
       "month                 0\n",
       "Tiering Nominal       0\n",
       "Jenis Usaha           0\n",
       "Jenis Simpanan        0\n",
       "Pemilik Simpanan      0\n",
       "KBMI                560\n",
       "Currency              0\n",
       "Nominal               0\n",
       "Rekening              0\n",
       "dtype: int64"
      ]
     },
     "execution_count": 7,
     "metadata": {},
     "output_type": "execute_result"
    }
   ],
   "source": [
    "df_dist.isna().sum()"
   ]
  },
  {
   "cell_type": "code",
   "execution_count": 8,
   "id": "9515b32e",
   "metadata": {},
   "outputs": [
    {
     "name": "stdout",
     "output_type": "stream",
     "text": [
      "Macam karakter kolom bulan: [ 1  2  3  4  5  6  7  8  9 10 11 12]\n"
     ]
    }
   ],
   "source": [
    "print(f'Macam karakter kolom bulan: {df_dist.month.unique()}')"
   ]
  },
  {
   "cell_type": "code",
   "execution_count": 9,
   "id": "5b41f3fe",
   "metadata": {},
   "outputs": [
    {
     "data": {
      "text/plain": [
       "array([2017, 2018, 2019, 2020, 2021, 2022], dtype=int64)"
      ]
     },
     "execution_count": 9,
     "metadata": {},
     "output_type": "execute_result"
    }
   ],
   "source": [
    "df_dist.years.unique()"
   ]
  },
  {
   "cell_type": "markdown",
   "id": "858d548f",
   "metadata": {},
   "source": [
    "Data Distribusi simpanan merupakan data panel dimana intervalnya adalah dari 2017-2022"
   ]
  },
  {
   "cell_type": "markdown",
   "id": "a3b1a423",
   "metadata": {},
   "source": [
    "## Data Preparation"
   ]
  },
  {
   "cell_type": "code",
   "execution_count": 10,
   "id": "9c60ea1e",
   "metadata": {},
   "outputs": [
    {
     "data": {
      "text/plain": [
       "id                              int64\n",
       "start_period                   object\n",
       "end_period                     object\n",
       "suku_bunga_bpr                float64\n",
       "suku_bunga_bankumum_rupiah    float64\n",
       "suku_bunga_bankumum_valas     float64\n",
       "end_period2                    object\n",
       "dtype: object"
      ]
     },
     "execution_count": 10,
     "metadata": {},
     "output_type": "execute_result"
    }
   ],
   "source": [
    "df_lps.dtypes"
   ]
  },
  {
   "cell_type": "code",
   "execution_count": 11,
   "id": "8716e5c2",
   "metadata": {},
   "outputs": [
    {
     "data": {
      "text/plain": [
       "0      2006-01-14\n",
       "1      2006-01-14\n",
       "2      2006-01-14\n",
       "3      2006-01-14\n",
       "4      2006-05-14\n",
       "          ...    \n",
       "133    2021-05-28\n",
       "134    2021-09-29\n",
       "135    2022-01-28\n",
       "136    2022-05-27\n",
       "137    2022-09-30\n",
       "Name: end_period, Length: 138, dtype: object"
      ]
     },
     "execution_count": 11,
     "metadata": {},
     "output_type": "execute_result"
    }
   ],
   "source": [
    "df_lps.end_period"
   ]
  },
  {
   "cell_type": "markdown",
   "id": "dfac659b",
   "metadata": {},
   "source": [
    "### Data Cleansing"
   ]
  },
  {
   "cell_type": "code",
   "execution_count": 12,
   "id": "fdf6b037",
   "metadata": {},
   "outputs": [
    {
     "data": {
      "text/plain": [
       "years                 0\n",
       "month                 0\n",
       "Tiering Nominal       0\n",
       "Jenis Usaha           0\n",
       "Jenis Simpanan        0\n",
       "Pemilik Simpanan      0\n",
       "KBMI                560\n",
       "Currency              0\n",
       "Nominal               0\n",
       "Rekening              0\n",
       "dtype: int64"
      ]
     },
     "execution_count": 12,
     "metadata": {},
     "output_type": "execute_result"
    }
   ],
   "source": [
    "df_dist.isna().sum()"
   ]
  },
  {
   "cell_type": "markdown",
   "id": "be54d6ea",
   "metadata": {},
   "source": [
    "Dari beberapa kolom yang tersedia diantara 2 Heet data tersebut, kami memiliki sebuah hypotesis yaitu tentang inflasi dan deflasi dimana kita akan menggunakan `Kurs Jual` sebagai variabel terkait (Y) karena jika kolom-kolom yang tersedia bisa mempengaruhi nilai jual kurs.\n",
    "\n",
    "Kurs Jual = Rupiah => Dolar\n",
    "\n",
    "Data kurs tersebut kami peroleh dari [Bank Indonesia](https://www.bi.go.id/id/statistik/ekonomi-keuangan/seki/Default.aspx)"
   ]
  },
  {
   "cell_type": "code",
   "execution_count": 13,
   "id": "b3824c4a",
   "metadata": {},
   "outputs": [
    {
     "data": {
      "text/html": [
       "<div>\n",
       "<style scoped>\n",
       "    .dataframe tbody tr th:only-of-type {\n",
       "        vertical-align: middle;\n",
       "    }\n",
       "\n",
       "    .dataframe tbody tr th {\n",
       "        vertical-align: top;\n",
       "    }\n",
       "\n",
       "    .dataframe thead th {\n",
       "        text-align: right;\n",
       "    }\n",
       "</style>\n",
       "<table border=\"1\" class=\"dataframe\">\n",
       "  <thead>\n",
       "    <tr style=\"text-align: right;\">\n",
       "      <th></th>\n",
       "      <th>Unnamed: 0</th>\n",
       "      <th>Unnamed: 1</th>\n",
       "      <th>Unnamed: 2</th>\n",
       "      <th>Unnamed: 3</th>\n",
       "      <th>Unnamed: 4</th>\n",
       "    </tr>\n",
       "  </thead>\n",
       "  <tbody>\n",
       "    <tr>\n",
       "      <th>0</th>\n",
       "      <td>NaN</td>\n",
       "      <td>NaN</td>\n",
       "      <td>NaN</td>\n",
       "      <td>NaN</td>\n",
       "      <td>NaN</td>\n",
       "    </tr>\n",
       "    <tr>\n",
       "      <th>1</th>\n",
       "      <td>Kurs Transaksi USD</td>\n",
       "      <td>Kurs Transaksi USD</td>\n",
       "      <td>Kurs Transaksi USD</td>\n",
       "      <td>Kurs Transaksi USD</td>\n",
       "      <td>NaN</td>\n",
       "    </tr>\n",
       "    <tr>\n",
       "      <th>2</th>\n",
       "      <td>NaN</td>\n",
       "      <td>NaN</td>\n",
       "      <td>NaN</td>\n",
       "      <td>NaN</td>\n",
       "      <td>NaN</td>\n",
       "    </tr>\n",
       "    <tr>\n",
       "      <th>3</th>\n",
       "      <td>NO</td>\n",
       "      <td>Nilai</td>\n",
       "      <td>Kurs Jual</td>\n",
       "      <td>Kurs Beli</td>\n",
       "      <td>Tanggal</td>\n",
       "    </tr>\n",
       "    <tr>\n",
       "      <th>4</th>\n",
       "      <td>1</td>\n",
       "      <td>1</td>\n",
       "      <td>15032.79</td>\n",
       "      <td>14883.21</td>\n",
       "      <td>7/29/2022 12:00:00 AM</td>\n",
       "    </tr>\n",
       "    <tr>\n",
       "      <th>...</th>\n",
       "      <td>...</td>\n",
       "      <td>...</td>\n",
       "      <td>...</td>\n",
       "      <td>...</td>\n",
       "      <td>...</td>\n",
       "    </tr>\n",
       "    <tr>\n",
       "      <th>1350</th>\n",
       "      <td>1347</td>\n",
       "      <td>1</td>\n",
       "      <td>13396</td>\n",
       "      <td>13262</td>\n",
       "      <td>2/6/2017 12:00:00 AM</td>\n",
       "    </tr>\n",
       "    <tr>\n",
       "      <th>1351</th>\n",
       "      <td>1348</td>\n",
       "      <td>1</td>\n",
       "      <td>13429</td>\n",
       "      <td>13295</td>\n",
       "      <td>2/3/2017 12:00:00 AM</td>\n",
       "    </tr>\n",
       "    <tr>\n",
       "      <th>1352</th>\n",
       "      <td>1349</td>\n",
       "      <td>1</td>\n",
       "      <td>13441</td>\n",
       "      <td>13307</td>\n",
       "      <td>2/2/2017 12:00:00 AM</td>\n",
       "    </tr>\n",
       "    <tr>\n",
       "      <th>1353</th>\n",
       "      <td>1350</td>\n",
       "      <td>1</td>\n",
       "      <td>13416</td>\n",
       "      <td>13282</td>\n",
       "      <td>2/1/2017 12:00:00 AM</td>\n",
       "    </tr>\n",
       "    <tr>\n",
       "      <th>1354</th>\n",
       "      <td>1351</td>\n",
       "      <td>1</td>\n",
       "      <td>13410</td>\n",
       "      <td>13276</td>\n",
       "      <td>1/31/2017 12:00:00 AM</td>\n",
       "    </tr>\n",
       "  </tbody>\n",
       "</table>\n",
       "<p>1355 rows × 5 columns</p>\n",
       "</div>"
      ],
      "text/plain": [
       "                Unnamed: 0            Unnamed: 1            Unnamed: 2  \\\n",
       "0                      NaN                   NaN                   NaN   \n",
       "1     Kurs Transaksi USD    Kurs Transaksi USD    Kurs Transaksi USD     \n",
       "2                      NaN                   NaN                   NaN   \n",
       "3                       NO                 Nilai             Kurs Jual   \n",
       "4                        1                     1              15032.79   \n",
       "...                    ...                   ...                   ...   \n",
       "1350                  1347                     1                 13396   \n",
       "1351                  1348                     1                 13429   \n",
       "1352                  1349                     1                 13441   \n",
       "1353                  1350                     1                 13416   \n",
       "1354                  1351                     1                 13410   \n",
       "\n",
       "                Unnamed: 3             Unnamed: 4  \n",
       "0                      NaN                    NaN  \n",
       "1     Kurs Transaksi USD                      NaN  \n",
       "2                      NaN                    NaN  \n",
       "3                Kurs Beli                Tanggal  \n",
       "4                 14883.21  7/29/2022 12:00:00 AM  \n",
       "...                    ...                    ...  \n",
       "1350                 13262   2/6/2017 12:00:00 AM  \n",
       "1351                 13295   2/3/2017 12:00:00 AM  \n",
       "1352                 13307   2/2/2017 12:00:00 AM  \n",
       "1353                 13282   2/1/2017 12:00:00 AM  \n",
       "1354                 13276  1/31/2017 12:00:00 AM  \n",
       "\n",
       "[1355 rows x 5 columns]"
      ]
     },
     "execution_count": 13,
     "metadata": {},
     "output_type": "execute_result"
    }
   ],
   "source": [
    "df_kurs = pd.read_excel('bank/data/Kurs Transaksi USD.xlsx')\n",
    "df_kurs"
   ]
  },
  {
   "cell_type": "code",
   "execution_count": 14,
   "id": "3870c255",
   "metadata": {},
   "outputs": [
    {
     "name": "stdout",
     "output_type": "stream",
     "text": [
      "<class 'pandas.core.frame.DataFrame'>\n",
      "RangeIndex: 1355 entries, 0 to 1354\n",
      "Data columns (total 5 columns):\n",
      " #   Column      Non-Null Count  Dtype \n",
      "---  ------      --------------  ----- \n",
      " 0   Unnamed: 0  1353 non-null   object\n",
      " 1   Unnamed: 1  1353 non-null   object\n",
      " 2   Unnamed: 2  1353 non-null   object\n",
      " 3   Unnamed: 3  1353 non-null   object\n",
      " 4   Unnamed: 4  1352 non-null   object\n",
      "dtypes: object(5)\n",
      "memory usage: 53.1+ KB\n"
     ]
    }
   ],
   "source": [
    "df_kurs.info()"
   ]
  },
  {
   "cell_type": "code",
   "execution_count": 15,
   "id": "230cd289",
   "metadata": {},
   "outputs": [],
   "source": [
    "df_kurs.dropna(inplace=True)"
   ]
  },
  {
   "cell_type": "code",
   "execution_count": 16,
   "id": "f6649db9",
   "metadata": {},
   "outputs": [],
   "source": [
    "df_kurs = df_kurs.reset_index(drop=False)"
   ]
  },
  {
   "cell_type": "code",
   "execution_count": 17,
   "id": "e8782b4b",
   "metadata": {},
   "outputs": [
    {
     "data": {
      "text/html": [
       "<div>\n",
       "<style scoped>\n",
       "    .dataframe tbody tr th:only-of-type {\n",
       "        vertical-align: middle;\n",
       "    }\n",
       "\n",
       "    .dataframe tbody tr th {\n",
       "        vertical-align: top;\n",
       "    }\n",
       "\n",
       "    .dataframe thead th {\n",
       "        text-align: right;\n",
       "    }\n",
       "</style>\n",
       "<table border=\"1\" class=\"dataframe\">\n",
       "  <thead>\n",
       "    <tr style=\"text-align: right;\">\n",
       "      <th></th>\n",
       "      <th>index</th>\n",
       "      <th>Unnamed: 0</th>\n",
       "      <th>Unnamed: 1</th>\n",
       "      <th>Unnamed: 2</th>\n",
       "      <th>Unnamed: 3</th>\n",
       "      <th>Unnamed: 4</th>\n",
       "    </tr>\n",
       "  </thead>\n",
       "  <tbody>\n",
       "    <tr>\n",
       "      <th>0</th>\n",
       "      <td>3</td>\n",
       "      <td>NO</td>\n",
       "      <td>Nilai</td>\n",
       "      <td>Kurs Jual</td>\n",
       "      <td>Kurs Beli</td>\n",
       "      <td>Tanggal</td>\n",
       "    </tr>\n",
       "    <tr>\n",
       "      <th>1</th>\n",
       "      <td>4</td>\n",
       "      <td>1</td>\n",
       "      <td>1</td>\n",
       "      <td>15032.79</td>\n",
       "      <td>14883.21</td>\n",
       "      <td>7/29/2022 12:00:00 AM</td>\n",
       "    </tr>\n",
       "    <tr>\n",
       "      <th>2</th>\n",
       "      <td>5</td>\n",
       "      <td>2</td>\n",
       "      <td>1</td>\n",
       "      <td>15095.1</td>\n",
       "      <td>14944.9</td>\n",
       "      <td>7/28/2022 12:00:00 AM</td>\n",
       "    </tr>\n",
       "    <tr>\n",
       "      <th>3</th>\n",
       "      <td>6</td>\n",
       "      <td>3</td>\n",
       "      <td>1</td>\n",
       "      <td>15058.92</td>\n",
       "      <td>14909.08</td>\n",
       "      <td>7/27/2022 12:00:00 AM</td>\n",
       "    </tr>\n",
       "    <tr>\n",
       "      <th>4</th>\n",
       "      <td>7</td>\n",
       "      <td>4</td>\n",
       "      <td>1</td>\n",
       "      <td>15066.96</td>\n",
       "      <td>14917.04</td>\n",
       "      <td>7/26/2022 12:00:00 AM</td>\n",
       "    </tr>\n",
       "  </tbody>\n",
       "</table>\n",
       "</div>"
      ],
      "text/plain": [
       "   index Unnamed: 0 Unnamed: 1 Unnamed: 2 Unnamed: 3             Unnamed: 4\n",
       "0      3         NO      Nilai  Kurs Jual  Kurs Beli                Tanggal\n",
       "1      4          1          1   15032.79   14883.21  7/29/2022 12:00:00 AM\n",
       "2      5          2          1    15095.1    14944.9  7/28/2022 12:00:00 AM\n",
       "3      6          3          1   15058.92   14909.08  7/27/2022 12:00:00 AM\n",
       "4      7          4          1   15066.96   14917.04  7/26/2022 12:00:00 AM"
      ]
     },
     "execution_count": 17,
     "metadata": {},
     "output_type": "execute_result"
    }
   ],
   "source": [
    "df_kurs.head()"
   ]
  },
  {
   "cell_type": "code",
   "execution_count": 18,
   "id": "99fd1ef4",
   "metadata": {},
   "outputs": [],
   "source": [
    "list_drop = ['index', 'Unnamed: 0', 'Unnamed: 1', 'Unnamed: 3']\n",
    "\n",
    "df_kurs.drop(list_drop, axis=1, inplace=True)"
   ]
  },
  {
   "cell_type": "code",
   "execution_count": 19,
   "id": "14ed357c",
   "metadata": {},
   "outputs": [],
   "source": [
    "df_kurs.drop(0, inplace=True)\n",
    "df_kurs = df_kurs.reset_index(drop=True)"
   ]
  },
  {
   "cell_type": "code",
   "execution_count": 20,
   "id": "45165930",
   "metadata": {},
   "outputs": [],
   "source": [
    "kurs = df_kurs.rename(columns={'Unnamed: 2': 'Kurs', 'Unnamed: 4':'Tanggal'})"
   ]
  },
  {
   "cell_type": "code",
   "execution_count": 21,
   "id": "f359e1f5",
   "metadata": {},
   "outputs": [
    {
     "data": {
      "text/html": [
       "<div>\n",
       "<style scoped>\n",
       "    .dataframe tbody tr th:only-of-type {\n",
       "        vertical-align: middle;\n",
       "    }\n",
       "\n",
       "    .dataframe tbody tr th {\n",
       "        vertical-align: top;\n",
       "    }\n",
       "\n",
       "    .dataframe thead th {\n",
       "        text-align: right;\n",
       "    }\n",
       "</style>\n",
       "<table border=\"1\" class=\"dataframe\">\n",
       "  <thead>\n",
       "    <tr style=\"text-align: right;\">\n",
       "      <th></th>\n",
       "      <th>Kurs</th>\n",
       "      <th>Tanggal</th>\n",
       "    </tr>\n",
       "  </thead>\n",
       "  <tbody>\n",
       "    <tr>\n",
       "      <th>0</th>\n",
       "      <td>15032.79</td>\n",
       "      <td>7/29/2022 12:00:00 AM</td>\n",
       "    </tr>\n",
       "    <tr>\n",
       "      <th>1</th>\n",
       "      <td>15095.1</td>\n",
       "      <td>7/28/2022 12:00:00 AM</td>\n",
       "    </tr>\n",
       "    <tr>\n",
       "      <th>2</th>\n",
       "      <td>15058.92</td>\n",
       "      <td>7/27/2022 12:00:00 AM</td>\n",
       "    </tr>\n",
       "    <tr>\n",
       "      <th>3</th>\n",
       "      <td>15066.96</td>\n",
       "      <td>7/26/2022 12:00:00 AM</td>\n",
       "    </tr>\n",
       "    <tr>\n",
       "      <th>4</th>\n",
       "      <td>15099.12</td>\n",
       "      <td>7/25/2022 12:00:00 AM</td>\n",
       "    </tr>\n",
       "    <tr>\n",
       "      <th>...</th>\n",
       "      <td>...</td>\n",
       "      <td>...</td>\n",
       "    </tr>\n",
       "    <tr>\n",
       "      <th>1346</th>\n",
       "      <td>13396</td>\n",
       "      <td>2/6/2017 12:00:00 AM</td>\n",
       "    </tr>\n",
       "    <tr>\n",
       "      <th>1347</th>\n",
       "      <td>13429</td>\n",
       "      <td>2/3/2017 12:00:00 AM</td>\n",
       "    </tr>\n",
       "    <tr>\n",
       "      <th>1348</th>\n",
       "      <td>13441</td>\n",
       "      <td>2/2/2017 12:00:00 AM</td>\n",
       "    </tr>\n",
       "    <tr>\n",
       "      <th>1349</th>\n",
       "      <td>13416</td>\n",
       "      <td>2/1/2017 12:00:00 AM</td>\n",
       "    </tr>\n",
       "    <tr>\n",
       "      <th>1350</th>\n",
       "      <td>13410</td>\n",
       "      <td>1/31/2017 12:00:00 AM</td>\n",
       "    </tr>\n",
       "  </tbody>\n",
       "</table>\n",
       "<p>1351 rows × 2 columns</p>\n",
       "</div>"
      ],
      "text/plain": [
       "          Kurs                Tanggal\n",
       "0     15032.79  7/29/2022 12:00:00 AM\n",
       "1      15095.1  7/28/2022 12:00:00 AM\n",
       "2     15058.92  7/27/2022 12:00:00 AM\n",
       "3     15066.96  7/26/2022 12:00:00 AM\n",
       "4     15099.12  7/25/2022 12:00:00 AM\n",
       "...        ...                    ...\n",
       "1346     13396   2/6/2017 12:00:00 AM\n",
       "1347     13429   2/3/2017 12:00:00 AM\n",
       "1348     13441   2/2/2017 12:00:00 AM\n",
       "1349     13416   2/1/2017 12:00:00 AM\n",
       "1350     13410  1/31/2017 12:00:00 AM\n",
       "\n",
       "[1351 rows x 2 columns]"
      ]
     },
     "execution_count": 21,
     "metadata": {},
     "output_type": "execute_result"
    }
   ],
   "source": [
    "kurs"
   ]
  },
  {
   "cell_type": "code",
   "execution_count": 22,
   "id": "ede6b49b",
   "metadata": {},
   "outputs": [],
   "source": [
    "kurs.Tanggal = pd.to_datetime(kurs.Tanggal, infer_datetime_format=True)"
   ]
  },
  {
   "cell_type": "code",
   "execution_count": 23,
   "id": "19e8f9a2",
   "metadata": {},
   "outputs": [
    {
     "data": {
      "text/plain": [
       "Kurs               object\n",
       "Tanggal    datetime64[ns]\n",
       "dtype: object"
      ]
     },
     "execution_count": 23,
     "metadata": {},
     "output_type": "execute_result"
    }
   ],
   "source": [
    "kurs.dtypes"
   ]
  },
  {
   "cell_type": "code",
   "execution_count": 24,
   "id": "81938604",
   "metadata": {},
   "outputs": [
    {
     "data": {
      "text/html": [
       "<div>\n",
       "<style scoped>\n",
       "    .dataframe tbody tr th:only-of-type {\n",
       "        vertical-align: middle;\n",
       "    }\n",
       "\n",
       "    .dataframe tbody tr th {\n",
       "        vertical-align: top;\n",
       "    }\n",
       "\n",
       "    .dataframe thead th {\n",
       "        text-align: right;\n",
       "    }\n",
       "</style>\n",
       "<table border=\"1\" class=\"dataframe\">\n",
       "  <thead>\n",
       "    <tr style=\"text-align: right;\">\n",
       "      <th></th>\n",
       "      <th>Kurs</th>\n",
       "      <th>Tanggal</th>\n",
       "      <th>Tahun</th>\n",
       "    </tr>\n",
       "  </thead>\n",
       "  <tbody>\n",
       "    <tr>\n",
       "      <th>0</th>\n",
       "      <td>15032.79</td>\n",
       "      <td>2022-07-29</td>\n",
       "      <td>2022</td>\n",
       "    </tr>\n",
       "    <tr>\n",
       "      <th>1</th>\n",
       "      <td>15095.1</td>\n",
       "      <td>2022-07-28</td>\n",
       "      <td>2022</td>\n",
       "    </tr>\n",
       "    <tr>\n",
       "      <th>2</th>\n",
       "      <td>15058.92</td>\n",
       "      <td>2022-07-27</td>\n",
       "      <td>2022</td>\n",
       "    </tr>\n",
       "    <tr>\n",
       "      <th>3</th>\n",
       "      <td>15066.96</td>\n",
       "      <td>2022-07-26</td>\n",
       "      <td>2022</td>\n",
       "    </tr>\n",
       "    <tr>\n",
       "      <th>4</th>\n",
       "      <td>15099.12</td>\n",
       "      <td>2022-07-25</td>\n",
       "      <td>2022</td>\n",
       "    </tr>\n",
       "  </tbody>\n",
       "</table>\n",
       "</div>"
      ],
      "text/plain": [
       "       Kurs    Tanggal  Tahun\n",
       "0  15032.79 2022-07-29   2022\n",
       "1   15095.1 2022-07-28   2022\n",
       "2  15058.92 2022-07-27   2022\n",
       "3  15066.96 2022-07-26   2022\n",
       "4  15099.12 2022-07-25   2022"
      ]
     },
     "execution_count": 24,
     "metadata": {},
     "output_type": "execute_result"
    }
   ],
   "source": [
    "kurs['Tahun'] = pd.DatetimeIndex(kurs['Tanggal']).year\n",
    "kurs.head()"
   ]
  },
  {
   "cell_type": "code",
   "execution_count": 25,
   "id": "c9393b4a",
   "metadata": {},
   "outputs": [],
   "source": [
    "# kurs.to_excel('data_kurs.xlsx')"
   ]
  },
  {
   "cell_type": "markdown",
   "id": "2fd6ce86",
   "metadata": {},
   "source": [
    "### Update Data dengan Spreadsheet\n",
    "\n",
    "[Klik](https://docs.google.com/spreadsheets/d/1pq9PNb45CvAU-jpcdlYzcT5IUaWymGdJ/edit?usp=sharing&ouid=111724846718157151554&rtpof=true&sd=true) untuk melihatnya"
   ]
  },
  {
   "cell_type": "code",
   "execution_count": 26,
   "id": "ba150e99",
   "metadata": {},
   "outputs": [
    {
     "data": {
      "text/html": [
       "<div>\n",
       "<style scoped>\n",
       "    .dataframe tbody tr th:only-of-type {\n",
       "        vertical-align: middle;\n",
       "    }\n",
       "\n",
       "    .dataframe tbody tr th {\n",
       "        vertical-align: top;\n",
       "    }\n",
       "\n",
       "    .dataframe thead th {\n",
       "        text-align: right;\n",
       "    }\n",
       "</style>\n",
       "<table border=\"1\" class=\"dataframe\">\n",
       "  <thead>\n",
       "    <tr style=\"text-align: right;\">\n",
       "      <th></th>\n",
       "      <th>years</th>\n",
       "      <th>month</th>\n",
       "      <th>Tiering Nominal</th>\n",
       "      <th>Jenis Usaha</th>\n",
       "      <th>Jenis Simpanan</th>\n",
       "      <th>Pemilik Simpanan</th>\n",
       "      <th>KBMI</th>\n",
       "      <th>Currency</th>\n",
       "      <th>Nominal</th>\n",
       "      <th>Rekening</th>\n",
       "      <th>suku_bunga_bpr</th>\n",
       "      <th>sukbung_bankumum</th>\n",
       "      <th>sukbung_bankumum_valas</th>\n",
       "      <th>kurs</th>\n",
       "    </tr>\n",
       "  </thead>\n",
       "  <tbody>\n",
       "    <tr>\n",
       "      <th>0</th>\n",
       "      <td>2017</td>\n",
       "      <td>1</td>\n",
       "      <td>100 Jt &lt; N &lt;= 200 Jt</td>\n",
       "      <td>Konvensional</td>\n",
       "      <td>Deposit On Call</td>\n",
       "      <td>Simpanan Dari Bank Lain</td>\n",
       "      <td>NaN</td>\n",
       "      <td>IDR</td>\n",
       "      <td>0</td>\n",
       "      <td>0</td>\n",
       "      <td>8.666667</td>\n",
       "      <td>6.166667</td>\n",
       "      <td>0.75</td>\n",
       "      <td>13453.466063</td>\n",
       "    </tr>\n",
       "    <tr>\n",
       "      <th>1</th>\n",
       "      <td>2017</td>\n",
       "      <td>1</td>\n",
       "      <td>100 Jt &lt; N &lt;= 200 Jt</td>\n",
       "      <td>Konvensional</td>\n",
       "      <td>Deposit On Call</td>\n",
       "      <td>Simpanan Dari Bank Lain</td>\n",
       "      <td>NaN</td>\n",
       "      <td>USD</td>\n",
       "      <td>0</td>\n",
       "      <td>0</td>\n",
       "      <td>8.666667</td>\n",
       "      <td>6.166667</td>\n",
       "      <td>0.75</td>\n",
       "      <td>13453.466063</td>\n",
       "    </tr>\n",
       "    <tr>\n",
       "      <th>2</th>\n",
       "      <td>2017</td>\n",
       "      <td>1</td>\n",
       "      <td>100 Jt &lt; N &lt;= 200 Jt</td>\n",
       "      <td>Konvensional</td>\n",
       "      <td>Deposit On Call</td>\n",
       "      <td>Simpanan Dari Bank Lain</td>\n",
       "      <td>KBMI 1</td>\n",
       "      <td>IDR</td>\n",
       "      <td>0</td>\n",
       "      <td>0</td>\n",
       "      <td>8.666667</td>\n",
       "      <td>6.166667</td>\n",
       "      <td>0.75</td>\n",
       "      <td>13453.466063</td>\n",
       "    </tr>\n",
       "    <tr>\n",
       "      <th>3</th>\n",
       "      <td>2017</td>\n",
       "      <td>1</td>\n",
       "      <td>100 Jt &lt; N &lt;= 200 Jt</td>\n",
       "      <td>Konvensional</td>\n",
       "      <td>Deposit On Call</td>\n",
       "      <td>Simpanan Dari Bank Lain</td>\n",
       "      <td>KBMI 1</td>\n",
       "      <td>USD</td>\n",
       "      <td>0</td>\n",
       "      <td>0</td>\n",
       "      <td>8.666667</td>\n",
       "      <td>6.166667</td>\n",
       "      <td>0.75</td>\n",
       "      <td>13453.466063</td>\n",
       "    </tr>\n",
       "    <tr>\n",
       "      <th>4</th>\n",
       "      <td>2017</td>\n",
       "      <td>1</td>\n",
       "      <td>100 Jt &lt; N &lt;= 200 Jt</td>\n",
       "      <td>Konvensional</td>\n",
       "      <td>Deposit On Call</td>\n",
       "      <td>Simpanan Dari Bank Lain</td>\n",
       "      <td>KBMI 2</td>\n",
       "      <td>IDR</td>\n",
       "      <td>0</td>\n",
       "      <td>0</td>\n",
       "      <td>8.666667</td>\n",
       "      <td>6.166667</td>\n",
       "      <td>0.75</td>\n",
       "      <td>13453.466063</td>\n",
       "    </tr>\n",
       "  </tbody>\n",
       "</table>\n",
       "</div>"
      ],
      "text/plain": [
       "   years  month       Tiering Nominal   Jenis Usaha   Jenis Simpanan  \\\n",
       "0   2017      1  100 Jt < N <= 200 Jt  Konvensional  Deposit On Call   \n",
       "1   2017      1  100 Jt < N <= 200 Jt  Konvensional  Deposit On Call   \n",
       "2   2017      1  100 Jt < N <= 200 Jt  Konvensional  Deposit On Call   \n",
       "3   2017      1  100 Jt < N <= 200 Jt  Konvensional  Deposit On Call   \n",
       "4   2017      1  100 Jt < N <= 200 Jt  Konvensional  Deposit On Call   \n",
       "\n",
       "          Pemilik Simpanan    KBMI Currency  Nominal  Rekening  \\\n",
       "0  Simpanan Dari Bank Lain     NaN      IDR        0         0   \n",
       "1  Simpanan Dari Bank Lain     NaN      USD        0         0   \n",
       "2  Simpanan Dari Bank Lain  KBMI 1      IDR        0         0   \n",
       "3  Simpanan Dari Bank Lain  KBMI 1      USD        0         0   \n",
       "4  Simpanan Dari Bank Lain  KBMI 2      IDR        0         0   \n",
       "\n",
       "   suku_bunga_bpr  sukbung_bankumum  sukbung_bankumum_valas          kurs  \n",
       "0        8.666667          6.166667                    0.75  13453.466063  \n",
       "1        8.666667          6.166667                    0.75  13453.466063  \n",
       "2        8.666667          6.166667                    0.75  13453.466063  \n",
       "3        8.666667          6.166667                    0.75  13453.466063  \n",
       "4        8.666667          6.166667                    0.75  13453.466063  "
      ]
     },
     "execution_count": 26,
     "metadata": {},
     "output_type": "execute_result"
    }
   ],
   "source": [
    "import pandas as pd\n",
    "import warnings\n",
    "warnings.filterwarnings('ignore')\n",
    "\n",
    "df = pd.read_excel('bank/data/Dataset LPS - Data Distribusi Simpanan_update.xlsx', sheet_name='Distribusi Simpanan Bank Umum')\n",
    "df.head()"
   ]
  },
  {
   "cell_type": "code",
   "execution_count": 27,
   "id": "8b00f51e",
   "metadata": {},
   "outputs": [
    {
     "name": "stdout",
     "output_type": "stream",
     "text": [
      "<class 'pandas.core.frame.DataFrame'>\n",
      "RangeIndex: 83030 entries, 0 to 83029\n",
      "Data columns (total 14 columns):\n",
      " #   Column                  Non-Null Count  Dtype  \n",
      "---  ------                  --------------  -----  \n",
      " 0   years                   83030 non-null  int64  \n",
      " 1   month                   83030 non-null  int64  \n",
      " 2   Tiering Nominal         83030 non-null  object \n",
      " 3   Jenis Usaha             83030 non-null  object \n",
      " 4   Jenis Simpanan          83030 non-null  object \n",
      " 5   Pemilik Simpanan        83030 non-null  object \n",
      " 6   KBMI                    82470 non-null  object \n",
      " 7   Currency                83030 non-null  object \n",
      " 8   Nominal                 83030 non-null  int64  \n",
      " 9   Rekening                83030 non-null  int64  \n",
      " 10  suku_bunga_bpr          83030 non-null  float64\n",
      " 11  sukbung_bankumum        83030 non-null  float64\n",
      " 12  sukbung_bankumum_valas  83030 non-null  float64\n",
      " 13  kurs                    83030 non-null  float64\n",
      "dtypes: float64(4), int64(4), object(6)\n",
      "memory usage: 8.9+ MB\n"
     ]
    }
   ],
   "source": [
    "df.info()"
   ]
  },
  {
   "cell_type": "markdown",
   "id": "507ba072",
   "metadata": {},
   "source": [
    "Pada Analisis dengan Spread Sheet kami membuat 4 kolom baru yaitu:\n",
    "1. `suku_bunga_bpr`: Adalah rata-rata suku bunga BPR pertahun\n",
    "2. `sukbung_bankumum`: Adalah rata-rata suku bunga dari bang umum pertahun\n",
    "3. `sukbung_bankumum_valas`: Adalah rata-rata suku bunga bank umum luar negeri\n",
    "4. `Kurs`: Adalah rata-rata nilai kurs jual dari rupiah ke dolar pertahun"
   ]
  },
  {
   "cell_type": "code",
   "execution_count": 28,
   "id": "b6ff059c",
   "metadata": {},
   "outputs": [
    {
     "name": "stdout",
     "output_type": "stream",
     "text": [
      "Index(['years', 'month', 'Nominal', 'Rekening', 'suku_bunga_bpr',\n",
      "       'sukbung_bankumum', 'sukbung_bankumum_valas', 'kurs'],\n",
      "      dtype='object')\n",
      "Index(['Tiering Nominal', 'Jenis Usaha', 'Jenis Simpanan', 'Pemilik Simpanan',\n",
      "       'KBMI', 'Currency'],\n",
      "      dtype='object')\n"
     ]
    }
   ],
   "source": [
    "num_cols = df.select_dtypes('number').columns\n",
    "object_cols = df.select_dtypes('object').columns\n",
    "print(num_cols)\n",
    "print(object_cols)"
   ]
  },
  {
   "cell_type": "code",
   "execution_count": 29,
   "id": "da5902a3",
   "metadata": {},
   "outputs": [
    {
     "data": {
      "text/plain": [
       "years                       0\n",
       "month                       0\n",
       "Tiering Nominal             0\n",
       "Jenis Usaha                 0\n",
       "Jenis Simpanan              0\n",
       "Pemilik Simpanan            0\n",
       "KBMI                      560\n",
       "Currency                    0\n",
       "Nominal                     0\n",
       "Rekening                    0\n",
       "suku_bunga_bpr              0\n",
       "sukbung_bankumum            0\n",
       "sukbung_bankumum_valas      0\n",
       "kurs                        0\n",
       "dtype: int64"
      ]
     },
     "execution_count": 29,
     "metadata": {},
     "output_type": "execute_result"
    }
   ],
   "source": [
    "df.isna().sum()"
   ]
  },
  {
   "cell_type": "code",
   "execution_count": 30,
   "id": "bdeac24a",
   "metadata": {},
   "outputs": [
    {
     "data": {
      "image/png": "[encoded data removed]",
      "text/plain": [
       "<Figure size 720x432 with 1 Axes>"
      ]
     },
     "metadata": {
      "needs_background": "light"
     },
     "output_type": "display_data"
    },
    {
     "data": {
      "image/png": "[encoded data removed]",
      "text/plain": [
       "<Figure size 720x432 with 1 Axes>"
      ]
     },
     "metadata": {
      "needs_background": "light"
     },
     "output_type": "display_data"
    },
    {
     "data": {
      "image/png": "[encoded data removed]",
      "text/plain": [
       "<Figure size 720x432 with 1 Axes>"
      ]
     },
     "metadata": {
      "needs_background": "light"
     },
     "output_type": "display_data"
    },
    {
     "data": {
      "image/png": "[encoded data removed]",
      "text/plain": [
       "<Figure size 720x432 with 1 Axes>"
      ]
     },
     "metadata": {
      "needs_background": "light"
     },
     "output_type": "display_data"
    },
    {
     "data": {
      "image/png": "[encoded data removed]",
      "text/plain": [
       "<Figure size 720x432 with 1 Axes>"
      ]
     },
     "metadata": {
      "needs_background": "light"
     },
     "output_type": "display_data"
    },
    {
     "data": {
      "image/png": "[encoded data removed]",
      "text/plain": [
       "<Figure size 720x432 with 1 Axes>"
      ]
     },
     "metadata": {
      "needs_background": "light"
     },
     "output_type": "display_data"
    }
   ],
   "source": [
    "import matplotlib.pyplot as plt\n",
    "import seaborn as sns\n",
    "\n",
    "def plot_all_hist(df, columns):\n",
    "    for col in columns:\n",
    "        plt.figure(figsize=(10,6))\n",
    "        sns.countplot(x=col, data=df)\n",
    "        plt.xlabel(col.capitalize())\n",
    "        plt.xticks(rotation='90')\n",
    "        plt.tight_layout()\n",
    "        plt.show()\n",
    "\n",
    "plot_all_hist(df, object_cols)"
   ]
  },
  {
   "cell_type": "markdown",
   "id": "571cca6b",
   "metadata": {},
   "source": [
    "Hanya terdapat 1 kolom yang memiliki banyak nilai missing yaitu `KBMI`. Namun kami tidak akan membuang kolom tersebut, barang kali kolom tersebut bisa bermanfaat pada analisis."
   ]
  },
  {
   "cell_type": "code",
   "execution_count": 31,
   "id": "12f89688",
   "metadata": {},
   "outputs": [],
   "source": [
    "df['KBMI'] = df['KBMI'].fillna('KBMI 1')"
   ]
  },
  {
   "cell_type": "code",
   "execution_count": 32,
   "id": "3284bdab",
   "metadata": {},
   "outputs": [
    {
     "data": {
      "text/html": [
       "<div>\n",
       "<style scoped>\n",
       "    .dataframe tbody tr th:only-of-type {\n",
       "        vertical-align: middle;\n",
       "    }\n",
       "\n",
       "    .dataframe tbody tr th {\n",
       "        vertical-align: top;\n",
       "    }\n",
       "\n",
       "    .dataframe thead th {\n",
       "        text-align: right;\n",
       "    }\n",
       "</style>\n",
       "<table border=\"1\" class=\"dataframe\">\n",
       "  <thead>\n",
       "    <tr style=\"text-align: right;\">\n",
       "      <th></th>\n",
       "      <th>years</th>\n",
       "      <th>month</th>\n",
       "      <th>Nominal</th>\n",
       "      <th>Rekening</th>\n",
       "      <th>suku_bunga_bpr</th>\n",
       "      <th>sukbung_bankumum</th>\n",
       "      <th>sukbung_bankumum_valas</th>\n",
       "      <th>kurs</th>\n",
       "    </tr>\n",
       "  </thead>\n",
       "  <tbody>\n",
       "    <tr>\n",
       "      <th>count</th>\n",
       "      <td>83030.000000</td>\n",
       "      <td>83030.000000</td>\n",
       "      <td>8.303000e+04</td>\n",
       "      <td>8.303000e+04</td>\n",
       "      <td>83030.000000</td>\n",
       "      <td>83030.000000</td>\n",
       "      <td>83030.000000</td>\n",
       "      <td>83030.000000</td>\n",
       "    </tr>\n",
       "    <tr>\n",
       "      <th>mean</th>\n",
       "      <td>2019.174033</td>\n",
       "      <td>6.314332</td>\n",
       "      <td>4.967187e+12</td>\n",
       "      <td>2.504702e+05</td>\n",
       "      <td>8.140882</td>\n",
       "      <td>5.640866</td>\n",
       "      <td>1.223682</td>\n",
       "      <td>14222.021104</td>\n",
       "    </tr>\n",
       "    <tr>\n",
       "      <th>std</th>\n",
       "      <td>1.555887</td>\n",
       "      <td>3.439288</td>\n",
       "      <td>2.715643e+13</td>\n",
       "      <td>5.986788e+06</td>\n",
       "      <td>0.970797</td>\n",
       "      <td>0.970808</td>\n",
       "      <td>0.564293</td>\n",
       "      <td>402.418873</td>\n",
       "    </tr>\n",
       "    <tr>\n",
       "      <th>min</th>\n",
       "      <td>2017.000000</td>\n",
       "      <td>1.000000</td>\n",
       "      <td>0.000000e+00</td>\n",
       "      <td>0.000000e+00</td>\n",
       "      <td>6.000000</td>\n",
       "      <td>3.500000</td>\n",
       "      <td>0.250000</td>\n",
       "      <td>13453.466063</td>\n",
       "    </tr>\n",
       "    <tr>\n",
       "      <th>25%</th>\n",
       "      <td>2018.000000</td>\n",
       "      <td>3.000000</td>\n",
       "      <td>0.000000e+00</td>\n",
       "      <td>0.000000e+00</td>\n",
       "      <td>8.125000</td>\n",
       "      <td>5.625000</td>\n",
       "      <td>0.750000</td>\n",
       "      <td>14217.060488</td>\n",
       "    </tr>\n",
       "    <tr>\n",
       "      <th>50%</th>\n",
       "      <td>2019.000000</td>\n",
       "      <td>6.000000</td>\n",
       "      <td>4.955730e+09</td>\n",
       "      <td>7.000000e+00</td>\n",
       "      <td>8.500000</td>\n",
       "      <td>6.000000</td>\n",
       "      <td>1.166667</td>\n",
       "      <td>14317.694215</td>\n",
       "    </tr>\n",
       "    <tr>\n",
       "      <th>75%</th>\n",
       "      <td>2020.000000</td>\n",
       "      <td>9.000000</td>\n",
       "      <td>6.383151e+11</td>\n",
       "      <td>4.680000e+02</td>\n",
       "      <td>8.666667</td>\n",
       "      <td>6.166667</td>\n",
       "      <td>1.583333</td>\n",
       "      <td>14383.519141</td>\n",
       "    </tr>\n",
       "    <tr>\n",
       "      <th>max</th>\n",
       "      <td>2022.000000</td>\n",
       "      <td>12.000000</td>\n",
       "      <td>6.330678e+14</td>\n",
       "      <td>3.142126e+08</td>\n",
       "      <td>9.300000</td>\n",
       "      <td>6.800000</td>\n",
       "      <td>2.150000</td>\n",
       "      <td>14645.120602</td>\n",
       "    </tr>\n",
       "  </tbody>\n",
       "</table>\n",
       "</div>"
      ],
      "text/plain": [
       "              years         month       Nominal      Rekening  suku_bunga_bpr  \\\n",
       "count  83030.000000  83030.000000  8.303000e+04  8.303000e+04    83030.000000   \n",
       "mean    2019.174033      6.314332  4.967187e+12  2.504702e+05        8.140882   \n",
       "std        1.555887      3.439288  2.715643e+13  5.986788e+06        0.970797   \n",
       "min     2017.000000      1.000000  0.000000e+00  0.000000e+00        6.000000   \n",
       "25%     2018.000000      3.000000  0.000000e+00  0.000000e+00        8.125000   \n",
       "50%     2019.000000      6.000000  4.955730e+09  7.000000e+00        8.500000   \n",
       "75%     2020.000000      9.000000  6.383151e+11  4.680000e+02        8.666667   \n",
       "max     2022.000000     12.000000  6.330678e+14  3.142126e+08        9.300000   \n",
       "\n",
       "       sukbung_bankumum  sukbung_bankumum_valas          kurs  \n",
       "count      83030.000000            83030.000000  83030.000000  \n",
       "mean           5.640866                1.223682  14222.021104  \n",
       "std            0.970808                0.564293    402.418873  \n",
       "min            3.500000                0.250000  13453.466063  \n",
       "25%            5.625000                0.750000  14217.060488  \n",
       "50%            6.000000                1.166667  14317.694215  \n",
       "75%            6.166667                1.583333  14383.519141  \n",
       "max            6.800000                2.150000  14645.120602  "
      ]
     },
     "execution_count": 32,
     "metadata": {},
     "output_type": "execute_result"
    }
   ],
   "source": [
    "df.describe()"
   ]
  },
  {
   "cell_type": "markdown",
   "id": "f2ae5b2a",
   "metadata": {},
   "source": [
    "Tapi terlihat disini bahwa kolom nominal memiliki nilai yang tidak wajar yaitu `**0**`, sebenarnya ini adalah missing value seperti yang telah kami anaisis pada Spread Sheet sebelumnya, namun karena ada sebuah karakter jadi pandas membacanya menjadi 0\n",
    "\n",
    "Jadi, kami akan menghapus baris yang memiliki nominal 0"
   ]
  },
  {
   "cell_type": "code",
   "execution_count": 33,
   "id": "d1bbf2a3",
   "metadata": {},
   "outputs": [],
   "source": [
    "df_clean = df.loc[df['Nominal']>0]\n",
    "df_clean = df_clean.reset_index()"
   ]
  },
  {
   "cell_type": "code",
   "execution_count": 34,
   "id": "b82d200d",
   "metadata": {},
   "outputs": [
    {
     "data": {
      "text/html": [
       "<div>\n",
       "<style scoped>\n",
       "    .dataframe tbody tr th:only-of-type {\n",
       "        vertical-align: middle;\n",
       "    }\n",
       "\n",
       "    .dataframe tbody tr th {\n",
       "        vertical-align: top;\n",
       "    }\n",
       "\n",
       "    .dataframe thead th {\n",
       "        text-align: right;\n",
       "    }\n",
       "</style>\n",
       "<table border=\"1\" class=\"dataframe\">\n",
       "  <thead>\n",
       "    <tr style=\"text-align: right;\">\n",
       "      <th></th>\n",
       "      <th>index</th>\n",
       "      <th>years</th>\n",
       "      <th>month</th>\n",
       "      <th>Nominal</th>\n",
       "      <th>Rekening</th>\n",
       "      <th>suku_bunga_bpr</th>\n",
       "      <th>sukbung_bankumum</th>\n",
       "      <th>sukbung_bankumum_valas</th>\n",
       "      <th>kurs</th>\n",
       "    </tr>\n",
       "  </thead>\n",
       "  <tbody>\n",
       "    <tr>\n",
       "      <th>count</th>\n",
       "      <td>49364.000000</td>\n",
       "      <td>49364.000000</td>\n",
       "      <td>49364.000000</td>\n",
       "      <td>4.936400e+04</td>\n",
       "      <td>4.936400e+04</td>\n",
       "      <td>49364.000000</td>\n",
       "      <td>49364.000000</td>\n",
       "      <td>49364.000000</td>\n",
       "      <td>49364.000000</td>\n",
       "    </tr>\n",
       "    <tr>\n",
       "      <th>mean</th>\n",
       "      <td>43209.399117</td>\n",
       "      <td>2019.295843</td>\n",
       "      <td>6.222348</td>\n",
       "      <td>8.354784e+12</td>\n",
       "      <td>4.212896e+05</td>\n",
       "      <td>8.051145</td>\n",
       "      <td>5.551145</td>\n",
       "      <td>1.183650</td>\n",
       "      <td>14238.625004</td>\n",
       "    </tr>\n",
       "    <tr>\n",
       "      <th>std</th>\n",
       "      <td>24694.936594</td>\n",
       "      <td>1.625987</td>\n",
       "      <td>3.422458</td>\n",
       "      <td>3.481567e+13</td>\n",
       "      <td>7.759766e+06</td>\n",
       "      <td>1.047161</td>\n",
       "      <td>1.047161</td>\n",
       "      <td>0.588646</td>\n",
       "      <td>399.290985</td>\n",
       "    </tr>\n",
       "    <tr>\n",
       "      <th>min</th>\n",
       "      <td>12.000000</td>\n",
       "      <td>2017.000000</td>\n",
       "      <td>1.000000</td>\n",
       "      <td>1.500000e+01</td>\n",
       "      <td>1.000000e+00</td>\n",
       "      <td>6.000000</td>\n",
       "      <td>3.500000</td>\n",
       "      <td>0.250000</td>\n",
       "      <td>13453.466063</td>\n",
       "    </tr>\n",
       "    <tr>\n",
       "      <th>25%</th>\n",
       "      <td>21792.750000</td>\n",
       "      <td>2018.000000</td>\n",
       "      <td>3.000000</td>\n",
       "      <td>1.703250e+10</td>\n",
       "      <td>2.300000e+01</td>\n",
       "      <td>6.812500</td>\n",
       "      <td>4.312500</td>\n",
       "      <td>0.750000</td>\n",
       "      <td>14217.060488</td>\n",
       "    </tr>\n",
       "    <tr>\n",
       "      <th>50%</th>\n",
       "      <td>43245.000000</td>\n",
       "      <td>2019.000000</td>\n",
       "      <td>6.000000</td>\n",
       "      <td>2.119080e+11</td>\n",
       "      <td>1.790000e+02</td>\n",
       "      <td>8.500000</td>\n",
       "      <td>6.000000</td>\n",
       "      <td>1.166667</td>\n",
       "      <td>14317.694215</td>\n",
       "    </tr>\n",
       "    <tr>\n",
       "      <th>75%</th>\n",
       "      <td>65002.250000</td>\n",
       "      <td>2021.000000</td>\n",
       "      <td>9.000000</td>\n",
       "      <td>2.882068e+12</td>\n",
       "      <td>2.631000e+03</td>\n",
       "      <td>8.666667</td>\n",
       "      <td>6.166667</td>\n",
       "      <td>1.583333</td>\n",
       "      <td>14582.468409</td>\n",
       "    </tr>\n",
       "    <tr>\n",
       "      <th>max</th>\n",
       "      <td>83029.000000</td>\n",
       "      <td>2022.000000</td>\n",
       "      <td>12.000000</td>\n",
       "      <td>6.330678e+14</td>\n",
       "      <td>3.142126e+08</td>\n",
       "      <td>9.300000</td>\n",
       "      <td>6.800000</td>\n",
       "      <td>2.150000</td>\n",
       "      <td>14645.120602</td>\n",
       "    </tr>\n",
       "  </tbody>\n",
       "</table>\n",
       "</div>"
      ],
      "text/plain": [
       "              index         years         month       Nominal      Rekening  \\\n",
       "count  49364.000000  49364.000000  49364.000000  4.936400e+04  4.936400e+04   \n",
       "mean   43209.399117   2019.295843      6.222348  8.354784e+12  4.212896e+05   \n",
       "std    24694.936594      1.625987      3.422458  3.481567e+13  7.759766e+06   \n",
       "min       12.000000   2017.000000      1.000000  1.500000e+01  1.000000e+00   \n",
       "25%    21792.750000   2018.000000      3.000000  1.703250e+10  2.300000e+01   \n",
       "50%    43245.000000   2019.000000      6.000000  2.119080e+11  1.790000e+02   \n",
       "75%    65002.250000   2021.000000      9.000000  2.882068e+12  2.631000e+03   \n",
       "max    83029.000000   2022.000000     12.000000  6.330678e+14  3.142126e+08   \n",
       "\n",
       "       suku_bunga_bpr  sukbung_bankumum  sukbung_bankumum_valas          kurs  \n",
       "count    49364.000000      49364.000000            49364.000000  49364.000000  \n",
       "mean         8.051145          5.551145                1.183650  14238.625004  \n",
       "std          1.047161          1.047161                0.588646    399.290985  \n",
       "min          6.000000          3.500000                0.250000  13453.466063  \n",
       "25%          6.812500          4.312500                0.750000  14217.060488  \n",
       "50%          8.500000          6.000000                1.166667  14317.694215  \n",
       "75%          8.666667          6.166667                1.583333  14582.468409  \n",
       "max          9.300000          6.800000                2.150000  14645.120602  "
      ]
     },
     "execution_count": 34,
     "metadata": {},
     "output_type": "execute_result"
    }
   ],
   "source": [
    "df_clean.describe()"
   ]
  },
  {
   "cell_type": "code",
   "execution_count": 35,
   "id": "bf0800ba",
   "metadata": {},
   "outputs": [
    {
     "data": {
      "text/plain": [
       "0"
      ]
     },
     "execution_count": 35,
     "metadata": {},
     "output_type": "execute_result"
    }
   ],
   "source": [
    "df_clean.duplicated().sum()"
   ]
  },
  {
   "cell_type": "code",
   "execution_count": 36,
   "id": "42de56ec",
   "metadata": {},
   "outputs": [
    {
     "data": {
      "image/png": "[encoded data removed]",
      "text/plain": [
       "<Figure size 576x360 with 1 Axes>"
      ]
     },
     "metadata": {
      "needs_background": "light"
     },
     "output_type": "display_data"
    }
   ],
   "source": [
    "import seaborn as sns\n",
    "import matplotlib.pyplot as plt\n",
    "\n",
    "plt.figure(figsize=(8,5))\n",
    "sns.lineplot(data=df, x='years', y='Nominal', label='Terdapat Nilai 0')\n",
    "sns.lineplot(data=df_clean, x='years', y='Nominal', label='Setelah bersih')\n",
    "plt.legend()\n",
    "plt.show()"
   ]
  },
  {
   "cell_type": "markdown",
   "id": "dc6d5d4e",
   "metadata": {},
   "source": [
    "Bisa dilihat perbedaannya bahwa data 0 tersebut sangatlah mempengaruhi distribusi dari nominal"
   ]
  },
  {
   "cell_type": "code",
   "execution_count": 37,
   "id": "aa5cb193",
   "metadata": {},
   "outputs": [
    {
     "name": "stdout",
     "output_type": "stream",
     "text": [
      "<class 'pandas.core.frame.DataFrame'>\n",
      "RangeIndex: 49364 entries, 0 to 49363\n",
      "Data columns (total 15 columns):\n",
      " #   Column                  Non-Null Count  Dtype  \n",
      "---  ------                  --------------  -----  \n",
      " 0   index                   49364 non-null  int64  \n",
      " 1   years                   49364 non-null  int64  \n",
      " 2   month                   49364 non-null  int64  \n",
      " 3   Tiering Nominal         49364 non-null  object \n",
      " 4   Jenis Usaha             49364 non-null  object \n",
      " 5   Jenis Simpanan          49364 non-null  object \n",
      " 6   Pemilik Simpanan        49364 non-null  object \n",
      " 7   KBMI                    49364 non-null  object \n",
      " 8   Currency                49364 non-null  object \n",
      " 9   Nominal                 49364 non-null  int64  \n",
      " 10  Rekening                49364 non-null  int64  \n",
      " 11  suku_bunga_bpr          49364 non-null  float64\n",
      " 12  sukbung_bankumum        49364 non-null  float64\n",
      " 13  sukbung_bankumum_valas  49364 non-null  float64\n",
      " 14  kurs                    49364 non-null  float64\n",
      "dtypes: float64(4), int64(5), object(6)\n",
      "memory usage: 5.6+ MB\n"
     ]
    }
   ],
   "source": [
    "df_clean.info()"
   ]
  },
  {
   "cell_type": "code",
   "execution_count": 38,
   "id": "7b0c2de6",
   "metadata": {},
   "outputs": [],
   "source": [
    "# df_clean.to_csv('data_bersih_simpanan.csv', index=False)"
   ]
  },
  {
   "cell_type": "markdown",
   "id": "85072611",
   "metadata": {},
   "source": [
    "## Exploratory Data Analysist\n",
    "\n",
    "Untuk menganalisa data lebih lanjut, kami menggunakan tablue untuk melakukan visualisasi dan mencari insign apa yang bisa kami ambil pada [visualisasi tablue](https://public.tableau.com/views/SimpanandanLPS/Dashboard1?:language=en-US&:display_count=n&:origin=viz_share_link)\n",
    "\n",
    "#### Dashboard Bank Umum\n",
    "1. `Suku bunga Bank Umum berdasarkan Jenis Simpanan dan Currency`: Terlihat bahwa memang nasabah yang menyimpan dana dengan Sertifikat Deposito selalu sedikit baik dari mata uang rupiah (IDR) atau mata uang (USD), sedangkan Deposito, Giro dan Tabungan selalu memiliki jumlah banyak nasabah yang tinggi baik dari IDR atau USD.\n",
    "2. `Tiering dan KBMI berdasarkan suku bunga bank umum`: Dari ke 4 kode KBMI distribusi dari Tiering Simpanan tidak terlihat adanya perbedaan signifikan namun pada KBMI 4 masih jumlahnya lebih sedikit meskipun memiliki distribusi yang sama dengan KBMI yang lainnya\n",
    "3. `Sebaran Kurs dan Suku Bunga Bank Umum`: Pada scatter plot tersebut terlihat antara suku bunga dengan kurs memiliki hubungan yang linear dimana persebarannya terlihat dekat. Ini menandakan kedua variabel tersebut saling berhubungan.\n",
    "\n",
    "#### Dashboard BPR\n",
    "1. `Jenis Simpanan dan Currency berdasarkan Suku Bunga BPR`: Pada grafik ini memiliki kesamaan dengan `Tiering dan KBMI berdasarkan suku bunga bank umum` dimana nasabah yang menyimpan dana dengan Sertifikat Deposito selalu sedikit baik dari mata uang rupiah (IDR) atau mata uang (USD), sedangkan Deposito, Giro dan Tabungan selalu memiliki jumlah banyak nasabah yang tinggi baik dari IDR atau USD.\n",
    "2. `KBMI dan Pemilik Simpanan berdasarkan suku bunga BPR`: Dari perbandingan sukun bunga BPR antara pemilik simpanadan dan KBMI terlihat simpanan pihak ketiga selalu lebih unggul dari ke 4 KBMI tersebut dibandingkan Simpanan Dari Bank Lain.\n",
    "3. `Currency dan Tearing Nominal`: Antara Tiering dan Currency terlihat memiliki distribusi yang sama dengan seperti Suku Bunga Bank umum dimana antara IDR dan USD jauh lebih dominan pada mata uang rupiah(IDR).\n",
    "4. `Sebaran Suku bunga BPR dan Kurs`: Dari scatter plot ternyata suku bunga dari BPR juga memiliki hubungan linear dengan kurs, bahkan kedekatan data melebihi kedekatan antara `Suku Bunga Bank Umum dan Kurs`.\n",
    "\n",
    "#### Dashboard Nominal\n",
    "1. `Nominal Jenis Simpanan dan Currency`: Seperti yang sebelumnya memang dari data ini jumlah Tabungan, Giro dan Deposito memang selalu lebih tinggi, bahkan dari ke 3 jenis usaha simpanan juga memiliki tren yang sama meskipun simpanan syariah memang lebih rendang dibandingkan dengan Konvensional.\n",
    "2. `Nominal dan Bank Umum | Nominal dan BPR`: Dilihat dari Scatterplot keduanya terlihat sebaran datanya tidak memiliki hubungan yang linear yang simetris, namun menyebar dan berkumpul pada sumbu Y.\n",
    "\n",
    "Untuk lebih jelasnya seberapa kuat hubungan antar kolomnya, maka harus melihat nilai korelasi antar variabel"
   ]
  },
  {
   "cell_type": "code",
   "execution_count": 39,
   "id": "0aec0b20",
   "metadata": {},
   "outputs": [],
   "source": [
    "data = pd.read_csv('bank/data/data_bersih_simpanan.csv')\n",
    "data.drop('index', axis=1, inplace=True)"
   ]
  },
  {
   "cell_type": "code",
   "execution_count": 40,
   "id": "3c089959",
   "metadata": {},
   "outputs": [
    {
     "data": {
      "text/html": [
       "<div>\n",
       "<style scoped>\n",
       "    .dataframe tbody tr th:only-of-type {\n",
       "        vertical-align: middle;\n",
       "    }\n",
       "\n",
       "    .dataframe tbody tr th {\n",
       "        vertical-align: top;\n",
       "    }\n",
       "\n",
       "    .dataframe thead th {\n",
       "        text-align: right;\n",
       "    }\n",
       "</style>\n",
       "<table border=\"1\" class=\"dataframe\">\n",
       "  <thead>\n",
       "    <tr style=\"text-align: right;\">\n",
       "      <th></th>\n",
       "      <th>years</th>\n",
       "      <th>month</th>\n",
       "      <th>Tiering Nominal</th>\n",
       "      <th>Jenis Usaha</th>\n",
       "      <th>Jenis Simpanan</th>\n",
       "      <th>Pemilik Simpanan</th>\n",
       "      <th>KBMI</th>\n",
       "      <th>Currency</th>\n",
       "      <th>Nominal</th>\n",
       "      <th>Rekening</th>\n",
       "      <th>suku_bunga_bpr</th>\n",
       "      <th>sukbung_bankumum</th>\n",
       "      <th>sukbung_bankumum_valas</th>\n",
       "      <th>kurs</th>\n",
       "    </tr>\n",
       "  </thead>\n",
       "  <tbody>\n",
       "    <tr>\n",
       "      <th>0</th>\n",
       "      <td>2017</td>\n",
       "      <td>1</td>\n",
       "      <td>100 Jt &lt; N &lt;= 200 Jt</td>\n",
       "      <td>Konvensional</td>\n",
       "      <td>Deposit On Call</td>\n",
       "      <td>Simpanan Pihak Ketiga</td>\n",
       "      <td>KBMI 1</td>\n",
       "      <td>IDR</td>\n",
       "      <td>4425035737</td>\n",
       "      <td>30</td>\n",
       "      <td>8.666667</td>\n",
       "      <td>6.166667</td>\n",
       "      <td>0.75</td>\n",
       "      <td>13453.466063</td>\n",
       "    </tr>\n",
       "    <tr>\n",
       "      <th>1</th>\n",
       "      <td>2017</td>\n",
       "      <td>1</td>\n",
       "      <td>100 Jt &lt; N &lt;= 200 Jt</td>\n",
       "      <td>Konvensional</td>\n",
       "      <td>Deposit On Call</td>\n",
       "      <td>Simpanan Pihak Ketiga</td>\n",
       "      <td>KBMI 2</td>\n",
       "      <td>IDR</td>\n",
       "      <td>18579173363</td>\n",
       "      <td>131</td>\n",
       "      <td>8.666667</td>\n",
       "      <td>6.166667</td>\n",
       "      <td>0.75</td>\n",
       "      <td>13453.466063</td>\n",
       "    </tr>\n",
       "    <tr>\n",
       "      <th>2</th>\n",
       "      <td>2017</td>\n",
       "      <td>1</td>\n",
       "      <td>100 Jt &lt; N &lt;= 200 Jt</td>\n",
       "      <td>Konvensional</td>\n",
       "      <td>Deposit On Call</td>\n",
       "      <td>Simpanan Pihak Ketiga</td>\n",
       "      <td>KBMI 2</td>\n",
       "      <td>USD</td>\n",
       "      <td>307084500</td>\n",
       "      <td>2</td>\n",
       "      <td>8.666667</td>\n",
       "      <td>6.166667</td>\n",
       "      <td>0.75</td>\n",
       "      <td>13453.466063</td>\n",
       "    </tr>\n",
       "    <tr>\n",
       "      <th>3</th>\n",
       "      <td>2017</td>\n",
       "      <td>1</td>\n",
       "      <td>100 Jt &lt; N &lt;= 200 Jt</td>\n",
       "      <td>Konvensional</td>\n",
       "      <td>Deposit On Call</td>\n",
       "      <td>Simpanan Pihak Ketiga</td>\n",
       "      <td>KBMI 3</td>\n",
       "      <td>IDR</td>\n",
       "      <td>6583934015</td>\n",
       "      <td>46</td>\n",
       "      <td>8.666667</td>\n",
       "      <td>6.166667</td>\n",
       "      <td>0.75</td>\n",
       "      <td>13453.466063</td>\n",
       "    </tr>\n",
       "    <tr>\n",
       "      <th>4</th>\n",
       "      <td>2017</td>\n",
       "      <td>1</td>\n",
       "      <td>100 Jt &lt; N &lt;= 200 Jt</td>\n",
       "      <td>Konvensional</td>\n",
       "      <td>Deposit On Call</td>\n",
       "      <td>Simpanan Pihak Ketiga</td>\n",
       "      <td>KBMI 4</td>\n",
       "      <td>IDR</td>\n",
       "      <td>1049606446</td>\n",
       "      <td>7</td>\n",
       "      <td>8.666667</td>\n",
       "      <td>6.166667</td>\n",
       "      <td>0.75</td>\n",
       "      <td>13453.466063</td>\n",
       "    </tr>\n",
       "  </tbody>\n",
       "</table>\n",
       "</div>"
      ],
      "text/plain": [
       "   years  month       Tiering Nominal   Jenis Usaha   Jenis Simpanan  \\\n",
       "0   2017      1  100 Jt < N <= 200 Jt  Konvensional  Deposit On Call   \n",
       "1   2017      1  100 Jt < N <= 200 Jt  Konvensional  Deposit On Call   \n",
       "2   2017      1  100 Jt < N <= 200 Jt  Konvensional  Deposit On Call   \n",
       "3   2017      1  100 Jt < N <= 200 Jt  Konvensional  Deposit On Call   \n",
       "4   2017      1  100 Jt < N <= 200 Jt  Konvensional  Deposit On Call   \n",
       "\n",
       "        Pemilik Simpanan    KBMI Currency      Nominal  Rekening  \\\n",
       "0  Simpanan Pihak Ketiga  KBMI 1      IDR   4425035737        30   \n",
       "1  Simpanan Pihak Ketiga  KBMI 2      IDR  18579173363       131   \n",
       "2  Simpanan Pihak Ketiga  KBMI 2      USD    307084500         2   \n",
       "3  Simpanan Pihak Ketiga  KBMI 3      IDR   6583934015        46   \n",
       "4  Simpanan Pihak Ketiga  KBMI 4      IDR   1049606446         7   \n",
       "\n",
       "   suku_bunga_bpr  sukbung_bankumum  sukbung_bankumum_valas          kurs  \n",
       "0        8.666667          6.166667                    0.75  13453.466063  \n",
       "1        8.666667          6.166667                    0.75  13453.466063  \n",
       "2        8.666667          6.166667                    0.75  13453.466063  \n",
       "3        8.666667          6.166667                    0.75  13453.466063  \n",
       "4        8.666667          6.166667                    0.75  13453.466063  "
      ]
     },
     "execution_count": 40,
     "metadata": {},
     "output_type": "execute_result"
    }
   ],
   "source": [
    "data.head()"
   ]
  },
  {
   "cell_type": "markdown",
   "id": "d70395f1",
   "metadata": {},
   "source": [
    "Agar kita dapat melihat hubungan pada semua kolom maka kita akan melakukan LabelEncoding terlebih dahulu supaya kolom Categorycal juga bisa dilihat korelasinya "
   ]
  },
  {
   "cell_type": "code",
   "execution_count": 42,
   "id": "42876f99",
   "metadata": {},
   "outputs": [
    {
     "data": {
      "text/html": [
       "<div>\n",
       "<style scoped>\n",
       "    .dataframe tbody tr th:only-of-type {\n",
       "        vertical-align: middle;\n",
       "    }\n",
       "\n",
       "    .dataframe tbody tr th {\n",
       "        vertical-align: top;\n",
       "    }\n",
       "\n",
       "    .dataframe thead th {\n",
       "        text-align: right;\n",
       "    }\n",
       "</style>\n",
       "<table border=\"1\" class=\"dataframe\">\n",
       "  <thead>\n",
       "    <tr style=\"text-align: right;\">\n",
       "      <th></th>\n",
       "      <th>years</th>\n",
       "      <th>month</th>\n",
       "      <th>Tiering Nominal</th>\n",
       "      <th>Jenis Usaha</th>\n",
       "      <th>Jenis Simpanan</th>\n",
       "      <th>Pemilik Simpanan</th>\n",
       "      <th>KBMI</th>\n",
       "      <th>Currency</th>\n",
       "      <th>Nominal</th>\n",
       "      <th>Rekening</th>\n",
       "      <th>suku_bunga_bpr</th>\n",
       "      <th>sukbung_bankumum</th>\n",
       "      <th>sukbung_bankumum_valas</th>\n",
       "      <th>kurs</th>\n",
       "    </tr>\n",
       "  </thead>\n",
       "  <tbody>\n",
       "    <tr>\n",
       "      <th>years</th>\n",
       "      <td>1.000000</td>\n",
       "      <td>-0.123638</td>\n",
       "      <td>0.000062</td>\n",
       "      <td>0.017935</td>\n",
       "      <td>0.000815</td>\n",
       "      <td>0.002498</td>\n",
       "      <td>-0.000606</td>\n",
       "      <td>-0.001772</td>\n",
       "      <td>0.033780</td>\n",
       "      <td>0.012736</td>\n",
       "      <td>-0.804905</td>\n",
       "      <td>-0.804905</td>\n",
       "      <td>-0.198813</td>\n",
       "      <td>0.776435</td>\n",
       "    </tr>\n",
       "    <tr>\n",
       "      <th>month</th>\n",
       "      <td>-0.123638</td>\n",
       "      <td>1.000000</td>\n",
       "      <td>0.002069</td>\n",
       "      <td>0.000104</td>\n",
       "      <td>-0.002005</td>\n",
       "      <td>-0.000580</td>\n",
       "      <td>0.006512</td>\n",
       "      <td>0.002938</td>\n",
       "      <td>0.003373</td>\n",
       "      <td>0.000127</td>\n",
       "      <td>0.149250</td>\n",
       "      <td>0.149250</td>\n",
       "      <td>0.125191</td>\n",
       "      <td>-0.059434</td>\n",
       "    </tr>\n",
       "    <tr>\n",
       "      <th>Tiering Nominal</th>\n",
       "      <td>0.000062</td>\n",
       "      <td>0.002069</td>\n",
       "      <td>1.000000</td>\n",
       "      <td>-0.018667</td>\n",
       "      <td>-0.009865</td>\n",
       "      <td>-0.029528</td>\n",
       "      <td>0.009660</td>\n",
       "      <td>0.001899</td>\n",
       "      <td>0.161460</td>\n",
       "      <td>0.050665</td>\n",
       "      <td>0.001459</td>\n",
       "      <td>0.001459</td>\n",
       "      <td>0.002568</td>\n",
       "      <td>0.002260</td>\n",
       "    </tr>\n",
       "    <tr>\n",
       "      <th>Jenis Usaha</th>\n",
       "      <td>0.017935</td>\n",
       "      <td>0.000104</td>\n",
       "      <td>-0.018667</td>\n",
       "      <td>1.000000</td>\n",
       "      <td>0.076047</td>\n",
       "      <td>0.061504</td>\n",
       "      <td>-0.213954</td>\n",
       "      <td>-0.085482</td>\n",
       "      <td>-0.124904</td>\n",
       "      <td>-0.027732</td>\n",
       "      <td>-0.014516</td>\n",
       "      <td>-0.014516</td>\n",
       "      <td>-0.003359</td>\n",
       "      <td>0.015734</td>\n",
       "    </tr>\n",
       "    <tr>\n",
       "      <th>Jenis Simpanan</th>\n",
       "      <td>0.000815</td>\n",
       "      <td>-0.002005</td>\n",
       "      <td>-0.009865</td>\n",
       "      <td>0.076047</td>\n",
       "      <td>1.000000</td>\n",
       "      <td>-0.068228</td>\n",
       "      <td>-0.015844</td>\n",
       "      <td>-0.011923</td>\n",
       "      <td>0.026167</td>\n",
       "      <td>0.075456</td>\n",
       "      <td>0.001219</td>\n",
       "      <td>0.001219</td>\n",
       "      <td>0.002557</td>\n",
       "      <td>0.001482</td>\n",
       "    </tr>\n",
       "    <tr>\n",
       "      <th>Pemilik Simpanan</th>\n",
       "      <td>0.002498</td>\n",
       "      <td>-0.000580</td>\n",
       "      <td>-0.029528</td>\n",
       "      <td>0.061504</td>\n",
       "      <td>-0.068228</td>\n",
       "      <td>1.000000</td>\n",
       "      <td>-0.026525</td>\n",
       "      <td>0.257658</td>\n",
       "      <td>0.170012</td>\n",
       "      <td>0.040242</td>\n",
       "      <td>0.000301</td>\n",
       "      <td>0.000301</td>\n",
       "      <td>0.003350</td>\n",
       "      <td>0.004559</td>\n",
       "    </tr>\n",
       "    <tr>\n",
       "      <th>KBMI</th>\n",
       "      <td>-0.000606</td>\n",
       "      <td>0.006512</td>\n",
       "      <td>0.009660</td>\n",
       "      <td>-0.213954</td>\n",
       "      <td>-0.015844</td>\n",
       "      <td>-0.026525</td>\n",
       "      <td>1.000000</td>\n",
       "      <td>0.048358</td>\n",
       "      <td>0.197618</td>\n",
       "      <td>0.059684</td>\n",
       "      <td>0.005746</td>\n",
       "      <td>0.005746</td>\n",
       "      <td>0.009500</td>\n",
       "      <td>0.005582</td>\n",
       "    </tr>\n",
       "    <tr>\n",
       "      <th>Currency</th>\n",
       "      <td>-0.001772</td>\n",
       "      <td>0.002938</td>\n",
       "      <td>0.001899</td>\n",
       "      <td>-0.085482</td>\n",
       "      <td>-0.011923</td>\n",
       "      <td>0.257658</td>\n",
       "      <td>0.048358</td>\n",
       "      <td>1.000000</td>\n",
       "      <td>-0.103902</td>\n",
       "      <td>-0.039004</td>\n",
       "      <td>0.004063</td>\n",
       "      <td>0.004063</td>\n",
       "      <td>0.004838</td>\n",
       "      <td>0.000378</td>\n",
       "    </tr>\n",
       "    <tr>\n",
       "      <th>Nominal</th>\n",
       "      <td>0.033780</td>\n",
       "      <td>0.003373</td>\n",
       "      <td>0.161460</td>\n",
       "      <td>-0.124904</td>\n",
       "      <td>0.026167</td>\n",
       "      <td>0.170012</td>\n",
       "      <td>0.197618</td>\n",
       "      <td>-0.103902</td>\n",
       "      <td>1.000000</td>\n",
       "      <td>0.506789</td>\n",
       "      <td>-0.029123</td>\n",
       "      <td>-0.029123</td>\n",
       "      <td>-0.009640</td>\n",
       "      <td>0.025098</td>\n",
       "    </tr>\n",
       "    <tr>\n",
       "      <th>Rekening</th>\n",
       "      <td>0.012736</td>\n",
       "      <td>0.000127</td>\n",
       "      <td>0.050665</td>\n",
       "      <td>-0.027732</td>\n",
       "      <td>0.075456</td>\n",
       "      <td>0.040242</td>\n",
       "      <td>0.059684</td>\n",
       "      <td>-0.039004</td>\n",
       "      <td>0.506789</td>\n",
       "      <td>1.000000</td>\n",
       "      <td>-0.011213</td>\n",
       "      <td>-0.011213</td>\n",
       "      <td>-0.004311</td>\n",
       "      <td>0.009412</td>\n",
       "    </tr>\n",
       "    <tr>\n",
       "      <th>suku_bunga_bpr</th>\n",
       "      <td>-0.804905</td>\n",
       "      <td>0.149250</td>\n",
       "      <td>0.001459</td>\n",
       "      <td>-0.014516</td>\n",
       "      <td>0.001219</td>\n",
       "      <td>0.000301</td>\n",
       "      <td>0.005746</td>\n",
       "      <td>0.004063</td>\n",
       "      <td>-0.029123</td>\n",
       "      <td>-0.011213</td>\n",
       "      <td>1.000000</td>\n",
       "      <td>1.000000</td>\n",
       "      <td>0.735625</td>\n",
       "      <td>-0.446906</td>\n",
       "    </tr>\n",
       "    <tr>\n",
       "      <th>sukbung_bankumum</th>\n",
       "      <td>-0.804905</td>\n",
       "      <td>0.149250</td>\n",
       "      <td>0.001459</td>\n",
       "      <td>-0.014516</td>\n",
       "      <td>0.001219</td>\n",
       "      <td>0.000301</td>\n",
       "      <td>0.005746</td>\n",
       "      <td>0.004063</td>\n",
       "      <td>-0.029123</td>\n",
       "      <td>-0.011213</td>\n",
       "      <td>1.000000</td>\n",
       "      <td>1.000000</td>\n",
       "      <td>0.735625</td>\n",
       "      <td>-0.446906</td>\n",
       "    </tr>\n",
       "    <tr>\n",
       "      <th>sukbung_bankumum_valas</th>\n",
       "      <td>-0.198813</td>\n",
       "      <td>0.125191</td>\n",
       "      <td>0.002568</td>\n",
       "      <td>-0.003359</td>\n",
       "      <td>0.002557</td>\n",
       "      <td>0.003350</td>\n",
       "      <td>0.009500</td>\n",
       "      <td>0.004838</td>\n",
       "      <td>-0.009640</td>\n",
       "      <td>-0.004311</td>\n",
       "      <td>0.735625</td>\n",
       "      <td>0.735625</td>\n",
       "      <td>1.000000</td>\n",
       "      <td>0.187872</td>\n",
       "    </tr>\n",
       "    <tr>\n",
       "      <th>kurs</th>\n",
       "      <td>0.776435</td>\n",
       "      <td>-0.059434</td>\n",
       "      <td>0.002260</td>\n",
       "      <td>0.015734</td>\n",
       "      <td>0.001482</td>\n",
       "      <td>0.004559</td>\n",
       "      <td>0.005582</td>\n",
       "      <td>0.000378</td>\n",
       "      <td>0.025098</td>\n",
       "      <td>0.009412</td>\n",
       "      <td>-0.446906</td>\n",
       "      <td>-0.446906</td>\n",
       "      <td>0.187872</td>\n",
       "      <td>1.000000</td>\n",
       "    </tr>\n",
       "  </tbody>\n",
       "</table>\n",
       "</div>"
      ],
      "text/plain": [
       "                           years     month  Tiering Nominal  Jenis Usaha  \\\n",
       "years                   1.000000 -0.123638         0.000062     0.017935   \n",
       "month                  -0.123638  1.000000         0.002069     0.000104   \n",
       "Tiering Nominal         0.000062  0.002069         1.000000    -0.018667   \n",
       "Jenis Usaha             0.017935  0.000104        -0.018667     1.000000   \n",
       "Jenis Simpanan          0.000815 -0.002005        -0.009865     0.076047   \n",
       "Pemilik Simpanan        0.002498 -0.000580        -0.029528     0.061504   \n",
       "KBMI                   -0.000606  0.006512         0.009660    -0.213954   \n",
       "Currency               -0.001772  0.002938         0.001899    -0.085482   \n",
       "Nominal                 0.033780  0.003373         0.161460    -0.124904   \n",
       "Rekening                0.012736  0.000127         0.050665    -0.027732   \n",
       "suku_bunga_bpr         -0.804905  0.149250         0.001459    -0.014516   \n",
       "sukbung_bankumum       -0.804905  0.149250         0.001459    -0.014516   \n",
       "sukbung_bankumum_valas -0.198813  0.125191         0.002568    -0.003359   \n",
       "kurs                    0.776435 -0.059434         0.002260     0.015734   \n",
       "\n",
       "                        Jenis Simpanan  Pemilik Simpanan      KBMI  Currency  \\\n",
       "years                         0.000815          0.002498 -0.000606 -0.001772   \n",
       "month                        -0.002005         -0.000580  0.006512  0.002938   \n",
       "Tiering Nominal              -0.009865         -0.029528  0.009660  0.001899   \n",
       "Jenis Usaha                   0.076047          0.061504 -0.213954 -0.085482   \n",
       "Jenis Simpanan                1.000000         -0.068228 -0.015844 -0.011923   \n",
       "Pemilik Simpanan             -0.068228          1.000000 -0.026525  0.257658   \n",
       "KBMI                         -0.015844         -0.026525  1.000000  0.048358   \n",
       "Currency                     -0.011923          0.257658  0.048358  1.000000   \n",
       "Nominal                       0.026167          0.170012  0.197618 -0.103902   \n",
       "Rekening                      0.075456          0.040242  0.059684 -0.039004   \n",
       "suku_bunga_bpr                0.001219          0.000301  0.005746  0.004063   \n",
       "sukbung_bankumum              0.001219          0.000301  0.005746  0.004063   \n",
       "sukbung_bankumum_valas        0.002557          0.003350  0.009500  0.004838   \n",
       "kurs                          0.001482          0.004559  0.005582  0.000378   \n",
       "\n",
       "                         Nominal  Rekening  suku_bunga_bpr  sukbung_bankumum  \\\n",
       "years                   0.033780  0.012736       -0.804905         -0.804905   \n",
       "month                   0.003373  0.000127        0.149250          0.149250   \n",
       "Tiering Nominal         0.161460  0.050665        0.001459          0.001459   \n",
       "Jenis Usaha            -0.124904 -0.027732       -0.014516         -0.014516   \n",
       "Jenis Simpanan          0.026167  0.075456        0.001219          0.001219   \n",
       "Pemilik Simpanan        0.170012  0.040242        0.000301          0.000301   \n",
       "KBMI                    0.197618  0.059684        0.005746          0.005746   \n",
       "Currency               -0.103902 -0.039004        0.004063          0.004063   \n",
       "Nominal                 1.000000  0.506789       -0.029123         -0.029123   \n",
       "Rekening                0.506789  1.000000       -0.011213         -0.011213   \n",
       "suku_bunga_bpr         -0.029123 -0.011213        1.000000          1.000000   \n",
       "sukbung_bankumum       -0.029123 -0.011213        1.000000          1.000000   \n",
       "sukbung_bankumum_valas -0.009640 -0.004311        0.735625          0.735625   \n",
       "kurs                    0.025098  0.009412       -0.446906         -0.446906   \n",
       "\n",
       "                        sukbung_bankumum_valas      kurs  \n",
       "years                                -0.198813  0.776435  \n",
       "month                                 0.125191 -0.059434  \n",
       "Tiering Nominal                       0.002568  0.002260  \n",
       "Jenis Usaha                          -0.003359  0.015734  \n",
       "Jenis Simpanan                        0.002557  0.001482  \n",
       "Pemilik Simpanan                      0.003350  0.004559  \n",
       "KBMI                                  0.009500  0.005582  \n",
       "Currency                              0.004838  0.000378  \n",
       "Nominal                              -0.009640  0.025098  \n",
       "Rekening                             -0.004311  0.009412  \n",
       "suku_bunga_bpr                        0.735625 -0.446906  \n",
       "sukbung_bankumum                      0.735625 -0.446906  \n",
       "sukbung_bankumum_valas                1.000000  0.187872  \n",
       "kurs                                  0.187872  1.000000  "
      ]
     },
     "execution_count": 42,
     "metadata": {},
     "output_type": "execute_result"
    }
   ],
   "source": [
    "from sklearn.preprocessing import LabelEncoder\n",
    "\n",
    "le = LabelEncoder()\n",
    "\n",
    "for column in object_cols:\n",
    "    data[column] = le.fit_transform(data[column])\n",
    "    \n",
    "data.corr()"
   ]
  },
  {
   "cell_type": "code",
   "execution_count": 44,
   "id": "f1e1a493",
   "metadata": {},
   "outputs": [
    {
     "data": {
      "text/html": [
       "<div>\n",
       "<style scoped>\n",
       "    .dataframe tbody tr th:only-of-type {\n",
       "        vertical-align: middle;\n",
       "    }\n",
       "\n",
       "    .dataframe tbody tr th {\n",
       "        vertical-align: top;\n",
       "    }\n",
       "\n",
       "    .dataframe thead th {\n",
       "        text-align: right;\n",
       "    }\n",
       "</style>\n",
       "<table border=\"1\" class=\"dataframe\">\n",
       "  <thead>\n",
       "    <tr style=\"text-align: right;\">\n",
       "      <th></th>\n",
       "      <th>kurs</th>\n",
       "      <th>sukbung_bankumum</th>\n",
       "      <th>suku_bunga_bpr</th>\n",
       "      <th>sukbung_bankumum_valas</th>\n",
       "      <th>Nominal</th>\n",
       "    </tr>\n",
       "  </thead>\n",
       "  <tbody>\n",
       "    <tr>\n",
       "      <th>kurs</th>\n",
       "      <td>1.000000</td>\n",
       "      <td>-0.446906</td>\n",
       "      <td>-0.446906</td>\n",
       "      <td>0.187872</td>\n",
       "      <td>0.025098</td>\n",
       "    </tr>\n",
       "    <tr>\n",
       "      <th>sukbung_bankumum</th>\n",
       "      <td>-0.446906</td>\n",
       "      <td>1.000000</td>\n",
       "      <td>1.000000</td>\n",
       "      <td>0.735625</td>\n",
       "      <td>-0.029123</td>\n",
       "    </tr>\n",
       "    <tr>\n",
       "      <th>suku_bunga_bpr</th>\n",
       "      <td>-0.446906</td>\n",
       "      <td>1.000000</td>\n",
       "      <td>1.000000</td>\n",
       "      <td>0.735625</td>\n",
       "      <td>-0.029123</td>\n",
       "    </tr>\n",
       "    <tr>\n",
       "      <th>sukbung_bankumum_valas</th>\n",
       "      <td>0.187872</td>\n",
       "      <td>0.735625</td>\n",
       "      <td>0.735625</td>\n",
       "      <td>1.000000</td>\n",
       "      <td>-0.009640</td>\n",
       "    </tr>\n",
       "    <tr>\n",
       "      <th>Nominal</th>\n",
       "      <td>0.025098</td>\n",
       "      <td>-0.029123</td>\n",
       "      <td>-0.029123</td>\n",
       "      <td>-0.009640</td>\n",
       "      <td>1.000000</td>\n",
       "    </tr>\n",
       "  </tbody>\n",
       "</table>\n",
       "</div>"
      ],
      "text/plain": [
       "                            kurs  sukbung_bankumum  suku_bunga_bpr  \\\n",
       "kurs                    1.000000         -0.446906       -0.446906   \n",
       "sukbung_bankumum       -0.446906          1.000000        1.000000   \n",
       "suku_bunga_bpr         -0.446906          1.000000        1.000000   \n",
       "sukbung_bankumum_valas  0.187872          0.735625        0.735625   \n",
       "Nominal                 0.025098         -0.029123       -0.029123   \n",
       "\n",
       "                        sukbung_bankumum_valas   Nominal  \n",
       "kurs                                  0.187872  0.025098  \n",
       "sukbung_bankumum                      0.735625 -0.029123  \n",
       "suku_bunga_bpr                        0.735625 -0.029123  \n",
       "sukbung_bankumum_valas                1.000000 -0.009640  \n",
       "Nominal                              -0.009640  1.000000  "
      ]
     },
     "execution_count": 44,
     "metadata": {},
     "output_type": "execute_result"
    }
   ],
   "source": [
    "hight_corr = ['kurs', 'sukbung_bankumum', 'suku_bunga_bpr', 'sukbung_bankumum_valas', 'Nominal']\n",
    "\n",
    "data[hight_corr].corr()"
   ]
  },
  {
   "cell_type": "code",
   "execution_count": 45,
   "id": "47ce6cf7",
   "metadata": {},
   "outputs": [
    {
     "data": {
      "image/png": "[encoded data removed]",
      "text/plain": [
       "<Figure size 720x576 with 2 Axes>"
      ]
     },
     "metadata": {
      "needs_background": "light"
     },
     "output_type": "display_data"
    }
   ],
   "source": [
    "plt.figure(figsize=(10,8))\n",
    "sns.heatmap(data[hight_corr].corr(), annot=True)\n",
    "plt.show()"
   ]
  },
  {
   "cell_type": "markdown",
   "id": "71bd7070",
   "metadata": {},
   "source": [
    "Dari kolom-kolom tersebut kami membuat beberapa Hypotesis Alternative yaitu\n",
    "1. Suku bunga Bank Umum berpengaruh secara negatif terhadap kurs\n",
    "2. Suku bunga BPR berpengaruh negatif pada kurs\n",
    "3. Suku bunga Bank Umum valuta Asing berpengaruh Positif terhadap kurs\n",
    "4. Nominal Simpanan berpengaruh positif terhadap kurs\n",
    "\n",
    "Namun antara Suku Bunga Bank Umum, Suku Bunga Bank Umum Valas dan Suku Bunga BPR terjadi Multikolinearitas, dimana variabel bebas tersebut saling mempengaruhi satu sama lain, ini sangat tidak bagus jika melakukan uji Hypotesis Dengan Regressi. Oleh karena itu saya hanya kami hanya membuat Hypotesis Alternatif Baru yaitu\n",
    "`Suku bunga perbengaruh terhadap kurs dengan Nominal Simpanan sebagai variabel Moderasi`\n",
    "\n",
    "Karena variabel Nominal Simpanan ini memiliki nilai negatif dengan suku bunga dan suku bunga juga memiliki nilai korelasi negatif terhadap kurs artinya:\n",
    "\n",
    "1. Jika Simpanan Bank naik maka suku bunga akan turun\n",
    "2. Jika suku bunga turun maka kurs akan naik\n",
    "\n",
    "Nah sebelum menyimpulkan dari hypotesis kami akan menguji Hypotesis Alternatif tersebut terlebih dahulu dengan Regresi Linear dengan model Statistika yang di sediakan oleh bahasa pemrograman Python.\n",
    "\n",
    "## Hypotesis Testing"
   ]
  },
  {
   "cell_type": "code",
   "execution_count": 47,
   "id": "00e2ba1a",
   "metadata": {},
   "outputs": [],
   "source": [
    "import warnings\n",
    "import statsmodels.api as sm\n",
    "import matplotlib.pyplot as plt\n",
    "%matplotlib inline\n",
    "warnings.filterwarnings('ignore')"
   ]
  },
  {
   "cell_type": "code",
   "execution_count": 48,
   "id": "2266e350",
   "metadata": {},
   "outputs": [],
   "source": [
    "X = data[['Nominal', 'sukbung_bankumum']]\n",
    "y = data['kurs']"
   ]
  },
  {
   "cell_type": "code",
   "execution_count": 56,
   "id": "0a103a5b",
   "metadata": {},
   "outputs": [],
   "source": [
    "X = sm.add_constant(X)"
   ]
  },
  {
   "cell_type": "code",
   "execution_count": 58,
   "id": "3fd89cec",
   "metadata": {},
   "outputs": [
    {
     "data": {
      "text/html": [
       "<div>\n",
       "<style scoped>\n",
       "    .dataframe tbody tr th:only-of-type {\n",
       "        vertical-align: middle;\n",
       "    }\n",
       "\n",
       "    .dataframe tbody tr th {\n",
       "        vertical-align: top;\n",
       "    }\n",
       "\n",
       "    .dataframe thead th {\n",
       "        text-align: right;\n",
       "    }\n",
       "</style>\n",
       "<table border=\"1\" class=\"dataframe\">\n",
       "  <thead>\n",
       "    <tr style=\"text-align: right;\">\n",
       "      <th></th>\n",
       "      <th>const</th>\n",
       "      <th>Nominal</th>\n",
       "      <th>sukbung_bankumum</th>\n",
       "    </tr>\n",
       "  </thead>\n",
       "  <tbody>\n",
       "    <tr>\n",
       "      <th>0</th>\n",
       "      <td>1.0</td>\n",
       "      <td>4425035737</td>\n",
       "      <td>6.166667</td>\n",
       "    </tr>\n",
       "    <tr>\n",
       "      <th>1</th>\n",
       "      <td>1.0</td>\n",
       "      <td>18579173363</td>\n",
       "      <td>6.166667</td>\n",
       "    </tr>\n",
       "    <tr>\n",
       "      <th>2</th>\n",
       "      <td>1.0</td>\n",
       "      <td>307084500</td>\n",
       "      <td>6.166667</td>\n",
       "    </tr>\n",
       "    <tr>\n",
       "      <th>3</th>\n",
       "      <td>1.0</td>\n",
       "      <td>6583934015</td>\n",
       "      <td>6.166667</td>\n",
       "    </tr>\n",
       "    <tr>\n",
       "      <th>4</th>\n",
       "      <td>1.0</td>\n",
       "      <td>1049606446</td>\n",
       "      <td>6.166667</td>\n",
       "    </tr>\n",
       "  </tbody>\n",
       "</table>\n",
       "</div>"
      ],
      "text/plain": [
       "   const      Nominal  sukbung_bankumum\n",
       "0    1.0   4425035737          6.166667\n",
       "1    1.0  18579173363          6.166667\n",
       "2    1.0    307084500          6.166667\n",
       "3    1.0   6583934015          6.166667\n",
       "4    1.0   1049606446          6.166667"
      ]
     },
     "execution_count": 58,
     "metadata": {},
     "output_type": "execute_result"
    }
   ],
   "source": [
    "X.head()"
   ]
  },
  {
   "cell_type": "code",
   "execution_count": 82,
   "id": "bc3b0395",
   "metadata": {},
   "outputs": [
    {
     "name": "stdout",
     "output_type": "stream",
     "text": [
      "                            OLS Regression Results                            \n",
      "==============================================================================\n",
      "Dep. Variable:                   kurs   R-squared:                       0.200\n",
      "Model:                            OLS   Adj. R-squared:                  0.200\n",
      "Method:                 Least Squares   F-statistic:                     6165.\n",
      "Date:                Fri, 21 Oct 2022   Prob (F-statistic):               0.00\n",
      "Time:                        14:14:30   Log-Likelihood:            -3.6022e+05\n",
      "No. Observations:               49364   AIC:                         7.204e+05\n",
      "Df Residuals:                   49361   BIC:                         7.205e+05\n",
      "Df Model:                           2                                         \n",
      "Covariance Type:            nonrobust                                         \n",
      "====================================================================================\n",
      "                       coef    std err          t      P>|t|      [0.025      0.975]\n",
      "------------------------------------------------------------------------------------\n",
      "const             1.518e+04      8.696   1746.027      0.000    1.52e+04    1.52e+04\n",
      "Nominal           1.387e-13   4.62e-14      3.002      0.003    4.81e-14    2.29e-13\n",
      "sukbung_bankumum  -170.2745      1.536   -110.867      0.000    -173.285    -167.264\n",
      "==============================================================================\n",
      "Omnibus:                     5431.995   Durbin-Watson:                   0.000\n",
      "Prob(Omnibus):                  0.000   Jarque-Bera (JB):             7328.475\n",
      "Skew:                          -0.937   Prob(JB):                         0.00\n",
      "Kurtosis:                       2.766   Cond. No.                     1.97e+14\n",
      "==============================================================================\n",
      "\n",
      "Notes:\n",
      "[1] Standard Errors assume that the covariance matrix of the errors is correctly specified.\n",
      "[2] The condition number is large, 1.97e+14. This might indicate that there are\n",
      "strong multicollinearity or other numerical problems.\n"
     ]
    }
   ],
   "source": [
    "reg_model = sm.OLS(y, X).fit()\n",
    "\n",
    "print(reg_model.summary())"
   ]
  },
  {
   "cell_type": "code",
   "execution_count": 83,
   "id": "d1363af6",
   "metadata": {},
   "outputs": [
    {
     "name": "stdout",
     "output_type": "stream",
     "text": [
      "Constanta dari model:15182.68kurs\n"
     ]
    }
   ],
   "source": [
    "alpha = reg_model.params['const']\n",
    "print('Constanta dari model:' +str(round(alpha, 2)) + 'kurs')"
   ]
  },
  {
   "cell_type": "code",
   "execution_count": 85,
   "id": "ded5625b",
   "metadata": {},
   "outputs": [
    {
     "name": "stdout",
     "output_type": "stream",
     "text": [
      "Ketika Nominal Simpanan naik 1 maka akan naik: 0.0 Kurs\n",
      "None\n"
     ]
    }
   ],
   "source": [
    "beta1 = reg_model.params['Nominal']\n",
    "print(print('Ketika Nominal Simpanan naik 1 maka akan naik: ' +str(round(beta1, 3)) + ' Kurs'))"
   ]
  },
  {
   "cell_type": "code",
   "execution_count": 87,
   "id": "a7a0eef9",
   "metadata": {},
   "outputs": [
    {
     "name": "stdout",
     "output_type": "stream",
     "text": [
      "Ketika Suku Bunga Naik 1 maka:-170.274 kurs turun\n",
      "None\n"
     ]
    }
   ],
   "source": [
    "beta2 = reg_model.params['sukbung_bankumum']\n",
    "print(print('Ketika Suku Bunga Naik 1 maka:' +str(round(beta2, 3)) + ' kurs turun'))"
   ]
  },
  {
   "cell_type": "markdown",
   "id": "7ee78922",
   "metadata": {},
   "source": [
    "Kita akan mncoba menganalisa seberapa kuat pengaruh Variabel Moderasi kita"
   ]
  },
  {
   "cell_type": "code",
   "execution_count": 88,
   "id": "37def24c",
   "metadata": {},
   "outputs": [
    {
     "name": "stdout",
     "output_type": "stream",
     "text": [
      "                            OLS Regression Results                            \n",
      "==============================================================================\n",
      "Dep. Variable:       sukbung_bankumum   R-squared:                       0.001\n",
      "Model:                            OLS   Adj. R-squared:                  0.001\n",
      "Method:                 Least Squares   F-statistic:                     41.90\n",
      "Date:                Fri, 21 Oct 2022   Prob (F-statistic):           9.69e-11\n",
      "Time:                        14:17:34   Log-Likelihood:                -72298.\n",
      "No. Observations:               49364   AIC:                         1.446e+05\n",
      "Df Residuals:                   49362   BIC:                         1.446e+05\n",
      "Df Model:                           1                                         \n",
      "Covariance Type:            nonrobust                                         \n",
      "==============================================================================\n",
      "                 coef    std err          t      P>|t|      [0.025      0.975]\n",
      "------------------------------------------------------------------------------\n",
      "const          5.5585      0.005   1147.277      0.000       5.549       5.568\n",
      "Nominal    -8.759e-16   1.35e-16     -6.473      0.000   -1.14e-15   -6.11e-16\n",
      "==============================================================================\n",
      "Omnibus:                     6345.951   Durbin-Watson:                   0.001\n",
      "Prob(Omnibus):                  0.000   Jarque-Bera (JB):             5313.716\n",
      "Skew:                          -0.718   Prob(JB):                         0.00\n",
      "Kurtosis:                       2.278   Cond. No.                     3.68e+13\n",
      "==============================================================================\n",
      "\n",
      "Notes:\n",
      "[1] Standard Errors assume that the covariance matrix of the errors is correctly specified.\n",
      "[2] The condition number is large, 3.68e+13. This might indicate that there are\n",
      "strong multicollinearity or other numerical problems.\n"
     ]
    }
   ],
   "source": [
    "X_1 = data['Nominal']\n",
    "y_1 = data['sukbung_bankumum']\n",
    "\n",
    "X_1 = sm.add_constant(X_1)\n",
    "\n",
    "reg_model_1 = sm.OLS(y_1, X_1).fit()\n",
    "\n",
    "print(reg_model_1.summary())"
   ]
  },
  {
   "cell_type": "code",
   "execution_count": 89,
   "id": "fe20df73",
   "metadata": {},
   "outputs": [
    {
     "name": "stdout",
     "output_type": "stream",
     "text": [
      "Constanta dari model: -0.0 Suku Bunga\n",
      "None\n"
     ]
    }
   ],
   "source": [
    "beta = reg_model_1.params['Nominal']\n",
    "print(print('Constanta dari model: ' +str(round(beta, 3)) + ' Suku Bunga'))"
   ]
  },
  {
   "cell_type": "markdown",
   "id": "0072fa00",
   "metadata": {},
   "source": [
    "Dari model yang telah dibuat tidak terjadi auto korelasi yaitu dengan nilai Durbin Wathson yang tidak melebihi alpha 5% (0.05), selain itu Juga tidak terjadi Heteroskedastisity karena nilai R-Squared dan Observasi R-Squared tidak memiliki selisih jauh, bahkan nilai nya sama."
   ]
  },
  {
   "cell_type": "markdown",
   "id": "4173966c",
   "metadata": {},
   "source": [
    "## Conclusion Hypotesis\n",
    "\n",
    "1. Variabel Nominal Berpengaruh Negatif tidak signifikan karena Nilai Probability F-Statistik berada di atas alpha 5% artinya hubungan Variabel Nominal terhadap berada di nilai Signifikan 10%. Namun variabel Moderasi Ini memiliki pengaruh negatif terhadap Suku Bunga yang artinya, semakin banyak simpanan maka bank akan menurunkan suku bunganya.\n",
    "2. Variabel Suku Bunga berpengaruh negatif signifikan terhadap Kurs. Dilihat dari nilai probability F-Statistik lebih rendah dari nilai signifikan 5% yang artinya Variabel Suku Bunga memiliki pengaruh yang kuat terhadap Kurs. Artinya Jika semakin tinggi suku bunga maka akan semakin rendah nilai kurs.\n",
    "\n",
    "### Kesimpulan dan Saran\n",
    "Kami mulai membahas dari variabel Moderasi terlebih dahulu untuk mengambil keputusan\n",
    "\n",
    "-> Simpanan (Nominal) semakin tinggi simpanan maka suku bunga semakin rendah = Jadi, jika kebalikannya, jika lebih banyak nasabah yang melakukan Pinjaman maka bank juga akan menaikan suku bunganya\n",
    "\n",
    "-> Suku Bunga semakin tinggi kurs semakin rendah = Jadi, semakin tinggi bunga bank maka nilai kurs akan semakin rendah\n",
    "\n",
    "Arrtinya Simpanan (moderasi) semakin rendah/pinjaman semakin tinggi maka bunga bank akan semakin tinggi dan jika Bunga semakin tinggi maka Nilai Jual Kurs akan semakin menurun. Dengan kata lain ketika nilai jual Kurs turun maka Nilai Rupiah akan naik dan ini bisa untuk menekan inflasi sehingga harga bahan pokok di Indonesia bisa menjadi lebih murah(turun) karena naiknya nilai tukar Rupiah.\n",
    "\n",
    "Jadi, salah satu kebijakan moneter yang bisa  diterapkan pemerintah agar ekonomi indonesia menjadi lebih baik adalah dengan menaikan suku bunga. Karena seperti yang telah kami baca dari referensi berita   di [CNBC Indonesia](https://www.cnbcindonesia.com/market/20220512141107-17-338507/suku-bunga-naik-inflasi-turun-tapi-awas-ekonomi-melambat#:~:text=Kenaikan%20suku%20bunga%20simpanan%20tersebut,maka%20inflasi%20juga%20akan%20turun.). Bahwa semakin tinggi suku bunga maka bisa menekan inflasi."
   ]
  },
  {
   "cell_type": "markdown",
   "id": "eebc13e3",
   "metadata": {},
   "source": [
    "## Machine Learning Modeling\n",
    "\n",
    "Pada modeling menggunakan Machine Learning ini kami ingin melakukan evaluasi terakhir dengan melakukan prediksi dan pemilihan model dengan melakukan Regulasi pada model."
   ]
  },
  {
   "cell_type": "code",
   "execution_count": 138,
   "id": "f6af7d17",
   "metadata": {},
   "outputs": [],
   "source": [
    "X = data[['Nominal', 'sukbung_bankumum']]\n",
    "y = data['kurs']\n",
    "\n",
    "from sklearn.model_selection import train_test_split\n",
    "\n",
    "X_train, X_test,  y_train, y_test = train_test_split(X, y, test_size=0.2)"
   ]
  },
  {
   "cell_type": "code",
   "execution_count": 139,
   "id": "9cab349c",
   "metadata": {},
   "outputs": [
    {
     "name": "stdout",
     "output_type": "stream",
     "text": [
      "(39491, 2)\n",
      "(39491,)\n",
      "(9873, 2)\n",
      "(9873,)\n"
     ]
    }
   ],
   "source": [
    "print(X_train.shape)\n",
    "print(y_train.shape)\n",
    "print(X_test.shape)\n",
    "print(y_test.shape)"
   ]
  },
  {
   "cell_type": "code",
   "execution_count": 140,
   "id": "a1a4232e",
   "metadata": {},
   "outputs": [],
   "source": [
    "import numpy as np\n",
    "from sklearn.linear_model import LinearRegression\n",
    "from sklearn.linear_model import Ridge\n",
    "from sklearn.linear_model import Lasso\n",
    "from sklearn.linear_model import ElasticNet\n",
    "\n",
    "from sklearn.metrics import mean_squared_error as mse\n",
    "from sklearn.metrics import r2_score"
   ]
  },
  {
   "cell_type": "code",
   "execution_count": 141,
   "id": "ee135dff",
   "metadata": {},
   "outputs": [
    {
     "name": "stdout",
     "output_type": "stream",
     "text": [
      "Rata-rata RMSE: 360.06634544008745\n",
      "Koefisien Determinasi R-Squared: 0.2007377717657134\n"
     ]
    }
   ],
   "source": [
    "lin_reg = LinearRegression()\n",
    "lin_model = lin_reg.fit(X_train, y_train)\n",
    "lin_pred = lin_reg.predict(X_test)\n",
    "\n",
    "rmse = np.sqrt(mse(y_test, lin_pred))\n",
    "print(f'Rata-rata RMSE: {rmse}')\n",
    "print(f'Koefisien Determinasi R-Squared: {r2_score(y_test, lin_pred)}')"
   ]
  },
  {
   "cell_type": "code",
   "execution_count": 142,
   "id": "3081b00d",
   "metadata": {},
   "outputs": [
    {
     "name": "stdout",
     "output_type": "stream",
     "text": [
      "Rata-rata RMSE: 360.066380658635\n",
      "Koefisien Determinasi R-Squared: 0.20073761541199375\n"
     ]
    }
   ],
   "source": [
    "ridge_reg = Ridge()\n",
    "ridge_model = ridge_reg.fit(X_train, y_train)\n",
    "ridge_pred = ridge_model.predict(X_test)\n",
    "\n",
    "rmse = np.sqrt(mse(y_test, ridge_pred))\n",
    "print(f'Rata-rata RMSE: {rmse}')\n",
    "print(f'Koefisien Determinasi R-Squared: {r2_score(y_test, ridge_pred)}')"
   ]
  },
  {
   "cell_type": "code",
   "execution_count": 143,
   "id": "bb13499e",
   "metadata": {},
   "outputs": [
    {
     "name": "stdout",
     "output_type": "stream",
     "text": [
      "Rata-rata RMSE: 360.075800051636\n",
      "Koefisien Determinasi R-Squared: 0.20069579720629627\n"
     ]
    }
   ],
   "source": [
    "lasso_reg = Lasso()\n",
    "lasso_model = lasso_reg.fit(X_train, y_train)\n",
    "lasso_pred = lasso_model.predict(X_test)\n",
    "\n",
    "rmse = np.sqrt(mse(y_test, lasso_pred))\n",
    "print(f'Rata-rata RMSE: {rmse}')\n",
    "print(f'Koefisien Determinasi R-Squared: {r2_score(y_test, lasso_pred)}')"
   ]
  },
  {
   "cell_type": "code",
   "execution_count": 144,
   "id": "3ab53628",
   "metadata": {},
   "outputs": [
    {
     "name": "stdout",
     "output_type": "stream",
     "text": [
      "Rata-rata RMSE: 364.85527279391226\n",
      "Koefisien Determinasi R-Squared: 0.1793358127456397\n"
     ]
    }
   ],
   "source": [
    "elas_reg = ElasticNet()\n",
    "elas_model = elas_reg.fit(X_train, y_train)\n",
    "elas_pred = elas_reg.predict(X_test)\n",
    "\n",
    "rmse = np.sqrt(mse(y_test, elas_pred))\n",
    "print(f'Rata-rata RMSE: {rmse}')\n",
    "print(f'Koefisien Determinasi R-Squared: {r2_score(y_test, elas_pred)}')"
   ]
  },
  {
   "cell_type": "code",
   "execution_count": 145,
   "id": "6c978eb4",
   "metadata": {},
   "outputs": [],
   "source": [
    "import pickle\n",
    "\n",
    "pickle.dump(open('model.pkl', 'rb'))"
   ]
  },
  {
   "cell_type": "markdown",
   "id": "285b22d5",
   "metadata": {},
   "source": [
    "Dilihat dari model Machine Learning dengan menggunakan Linear Regression memiliki performa yang kurang cukup baik, namun nilai R-Squared sama seperti ketika kita melakukan Hypotesis Testing sebelumnya, dimana model hanya memiliki performa untuk memprediksi 20% / 0.20 "
   ]
  }
 ],
 "metadata": {
  "kernelspec": {
   "display_name": "data_science",
   "language": "python",
   "name": "data_science"
  },
  "language_info": {
   "codemirror_mode": {
    "name": "ipython",
    "version": 3
   },
   "file_extension": ".py",
   "mimetype": "text/x-python",
   "name": "python",
   "nbconvert_exporter": "python",
   "pygments_lexer": "ipython3",
   "version": "3.9.12"
  }
 },
 "nbformat": 4,
 "nbformat_minor": 5
}
